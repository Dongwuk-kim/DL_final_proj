{
 "cells": [
  {
   "cell_type": "markdown",
   "metadata": {
    "colab_type": "text",
    "id": "gMhHuBhQAAkw"
   },
   "source": [
    "#For colab"
   ]
  },
  {
   "cell_type": "markdown",
   "metadata": {},
   "source": [
    "# Define custom function"
   ]
  },
  {
   "cell_type": "code",
   "execution_count": 1,
   "metadata": {
    "colab": {
     "base_uri": "https://localhost:8080/",
     "height": 35
    },
    "colab_type": "code",
    "id": "dNVNHP9egcT5",
    "outputId": "9a6f9e08-72af-4f24-d405-5f72611c6b79"
   },
   "outputs": [],
   "source": [
    "import numpy as np\n",
    "import pandas as pd\n",
    "import collections\n",
    "import json\n",
    "#from google.colab import drive\n",
    "from matplotlib import pyplot as plt\n",
    "\n",
    "#drive.mount('/gdrive')"
   ]
  },
  {
   "cell_type": "code",
   "execution_count": 23,
   "metadata": {
    "colab": {},
    "colab_type": "code",
    "id": "u68pjQxBqmk1"
   },
   "outputs": [],
   "source": [
    "#No biased에 대한 결과가 요정도..\n",
    "def draw_pnl(input_pnl, index_list) :\n",
    "    draw_data = pd.Series(input_pnl)\n",
    "    draw_data.index = index_list\n",
    "    plt.figure(figsize=(10,5))\n",
    "    plt.plot(draw_data)\n",
    "    plt.grid(b = True)\n",
    "    return draw_data\n",
    "\n",
    "\n",
    "\"\"\"\n",
    "industry_list와 채워진 matrix set을 받으면 loading matrix 로 변환\n",
    "loading matrix 출력 예시\n",
    "#loading_m= industry_dic[industry_list[0]]\n",
    "\n",
    "\"\"\"\n",
    "def make_loading_matrix(industry_list, industry_fg) :\n",
    "    industry_dic = {}\n",
    "    for industry in industry_list :\n",
    "        industry_dic.update({ industry :np.where(industry_fg.values == industry, 1, 0)})\n",
    "        #print(industry)\n",
    "    return industry_dic\n",
    "\n",
    "\n",
    "\"\"\"\n",
    "turn over 계산 function\n",
    "input\n",
    "    - portfolio_w : portfolio의 values(numpy type)\n",
    "    - index_list : 사용하는 데이터의 index list\n",
    "    \n",
    "output \n",
    "- daliy turnover가 저장된 pd.series type 변수\n",
    "\"\"\"\n",
    "\n",
    "def make_turn_over_df(portfolio_w , index_list) :\n",
    "    turn_over = np.zeros(len (portfolio_w))\n",
    "    for i in range(len (portfolio_w)) :\n",
    "        if i == len (portfolio_w) -2 :\n",
    "            break;\n",
    "        turn_over[i+1] = np.nansum(abs(portfolio_w[i+1] - portfolio_w[i]))\n",
    "\n",
    "    turn_over_df = pd.Series(turn_over)\n",
    "    turn_over_df.index = index_list\n",
    "    return turn_over_df\n",
    "\n",
    "\n",
    "\"\"\"\n",
    "summary_pnl\n",
    " * 포트폴리오의 성과지표를 summary\n",
    "input\n",
    "    - portfolio_df : portfolio의 데이터프레임 타입(daily 별 포트폴리오 자산배분이 들어가있음)\n",
    "    - price_s : 해당기간 주식들의 수익률 정보\n",
    "    \n",
    "output \n",
    "- summary table : sharp ratio/year pnl/turn over rate 평균등을 계산하고 plot함\n",
    "\"\"\"\n",
    "\n",
    "def summary_pnl(portfolio_df, turn_over_df, price_s) :\n",
    "    \n",
    "    daily_pnl = np.nansum(np.multiply( portfolio_df.values, price_s.values),1)\n",
    "    #draw_pnl(np.cumsum(daily_pnl), price_s.index)\n",
    "    cumsum_data = pd.Series(np.cumsum(daily_pnl))\n",
    "    cumsum_data.index = price_s.index\n",
    "    plt.figure(figsize=(10,5))\n",
    "    plt.plot(cumsum_data)\n",
    "    plt.grid(b = True)\n",
    "    \n",
    "    draw_data = pd.Series(daily_pnl)\n",
    "    draw_data.index = price_s.index\n",
    "\n",
    "    summary_table = pd.DataFrame(index=draw_data.resample('Y').mean().index , columns=['Sharp_ratio', 'Profit and Loss(%)', 'Turn_over_rate(%)'])\n",
    "    summary_table['Sharp_ratio'] = draw_data.resample('Y').mean() *np.sqrt(250) / draw_data.resample('Y').std()\n",
    "    summary_table['Profit and Loss(%)'] = draw_data.resample('Y').mean() *250\n",
    "    summary_table['Turn_over_rate(%)'] = turn_over_df.resample('Y').mean() *100\n",
    "    \n",
    "    return summary_table\n",
    "\n"
   ]
  },
  {
   "cell_type": "code",
   "execution_count": 21,
   "metadata": {},
   "outputs": [],
   "source": [
    "# mean_reversion 포트폴리오 생성 전략\n",
    "def mean_reversion(input_data, industry_list, industry_dic) :\n",
    "    #input_data = pr_rolling\n",
    "    total_ammount = 1\n",
    "\n",
    "    portfolio = np.zeros(input_data.shape)\n",
    "    nn_price_s = input_data.values\n",
    "\n",
    "    for industry in industry_list :\n",
    "        print(industry)\n",
    "        loading_m = industry_dic[industry]\n",
    "        loading_return = np.where(loading_m == 1, nn_price_s, np.nan)\n",
    "        #여기 0값 집어넣어서 난리남..\n",
    "\n",
    "        for i in range(len(input_data.index)) :\n",
    "\n",
    "            loading_return[i] -= np.nanmean(loading_return[i])\n",
    "            loading_return[i] = np.where(np.isnan(loading_return[i]), 0, loading_return[i])\n",
    "\n",
    "            portfolio[i] += loading_return[i] \n",
    "\n",
    "\n",
    "    portfolio = np.where(np.isnan(portfolio),0 , portfolio)\n",
    "    portfolio = np.where(portfolio > 0 , -1, 1)\n",
    "\n",
    "    abs_sum = np.sum(np.abs(portfolio), 1)\n",
    "    weight = total_ammount/abs_sum \n",
    "    weight[total_ammount/abs_sum == np.inf] = 0\n",
    "    d = np.diag(weight)\n",
    "    portfolio_w = np.matmul(d, portfolio )\n",
    "\n",
    "\n",
    "    #make portfolio df with init zero\n",
    "    portfolio_df = input_data.copy()\n",
    "    for col in portfolio_df.columns:\n",
    "        portfolio_df[col].values[:] = 0\n",
    "\n",
    "    portfolio_df.loc[:,:] = portfolio_w\n",
    "    turn_over_df = make_turn_over_df(portfolio_w , input_data.index)\n",
    "    \n",
    "    \n",
    "    portfolio_df = portfolio_df.shift(1)\n",
    "    \n",
    "    return portfolio_df,turn_over_df"
   ]
  },
  {
   "cell_type": "code",
   "execution_count": 25,
   "metadata": {},
   "outputs": [],
   "source": [
    "def mean_reversion_nc(input_data):\n",
    "    #input_data = pr_rolling\n",
    "    total_ammount = 1\n",
    "\n",
    "    #make portfolio df with init zero\n",
    "    portfolio_df = input_data.copy()\n",
    "    for col in portfolio_df.columns:\n",
    "        portfolio_df[col].values[:] = 0\n",
    "\n",
    "    #Calc  alpha\n",
    "    for i,index in enumerate(input_data.index) :\n",
    "\n",
    "        if i == len(input_data.index)-1 :\n",
    "            break ;\n",
    "        day_pr_arr = input_data.values[i]\n",
    "\n",
    "        alpha =  (day_pr_arr - np.nanmean(day_pr_arr))\n",
    "        alpha[~np.isnan(day_pr_arr)] = np.where( alpha[~np.isnan(day_pr_arr)] > 0, -1, 1)\n",
    "        alpha -= np.nanmean(alpha)\n",
    "        #alpha = -1 * (day_pr_arr -pr_rolling_ar[i] )\n",
    "        weight_value = total_ammount/ np.sum(np.abs(day_pr_arr[~np.isnan(day_pr_arr)]))   \n",
    "\n",
    "        alpha[~np.isnan(day_pr_arr)] = weight_value * alpha[~np.isnan(day_pr_arr)]\n",
    "\n",
    "        portfolio_df.loc[input_data.index[i+1], :] = alpha\n",
    "        turn_over_df = make_turn_over_df(portfolio_df.values , input_data.index)\n",
    "    return portfolio_df, turn_over_df\n",
    "    \n"
   ]
  },
  {
   "cell_type": "code",
   "execution_count": 4,
   "metadata": {},
   "outputs": [],
   "source": [
    "with open('..//data//daily_price_v.json') as json_file:\n",
    "    json_data = json.load(json_file)\n",
    "price_s = pd.read_json(json_data)\n",
    "\n",
    "with open('..//data//fg_sector_bfff_v.json') as json_file:\n",
    "    json_data = json.load(json_file)\n",
    "industry_fg = pd.read_json(json_data)\n"
   ]
  },
  {
   "cell_type": "markdown",
   "metadata": {
    "colab_type": "text",
    "id": "UL91VIypzeP4"
   },
   "source": [
    "#Calc industry loading matrix\n",
    "\n"
   ]
  },
  {
   "cell_type": "markdown",
   "metadata": {},
   "source": [
    "# get_indsutry_list"
   ]
  },
  {
   "cell_type": "code",
   "execution_count": 12,
   "metadata": {
    "colab": {},
    "colab_type": "code",
    "id": "-VLTLr9MQ6oj"
   },
   "outputs": [],
   "source": [
    "# get_industry_list \n",
    "\n",
    "with open('..//data//fg_sector.json') as json_file:\n",
    "    industry_js = json.load(json_file)\n",
    "industry_s = pd.read_json(industry_js)\n",
    "\n",
    "#industry_s전처리 해줘야함..\n",
    "industry_m = industry_s.copy()\n",
    "for i in industry_m.columns :\n",
    "    col = industry_m[i].values\n",
    "    col = np.where(type(col) == float , 'NaN' , col)\n",
    "    col = np.where(type(col) == 'nan' , 'NaN' , col)\n",
    "    col = np.where(col == None , 'NaN'  , col)\n",
    "    industry_m[i] = col\n",
    "\n",
    "\n",
    "#한번더 후 처리\n",
    "hey = industry_m.values\n",
    "hey[hey == 'nan'] = 'NaN'\n",
    "industry_m.loc[:,:] = hey\n",
    "\n",
    "#후처리 한번더..\n",
    "for i in industry_m.columns :\n",
    "    col = industry_m[i].values\n",
    "    col = np.where(type(col) == float , 'NaN' , col)\n",
    "    col = np.where(type(col) == 'nan' , 'NaN' , col)\n",
    "    col = np.where(col == None , 'NaN'  , col)\n",
    "    industry_m[i] = col\n",
    "    \n",
    "    #industry_list check\n",
    "    if i == industry_m.columns[0]:\n",
    "        c = collections.Counter(industry_m[i])\n",
    "    c += collections.Counter(industry_m[i])\n",
    "\n",
    "\n",
    "industry_list = [*c.keys()]\n"
   ]
  },
  {
   "cell_type": "code",
   "execution_count": 13,
   "metadata": {},
   "outputs": [
    {
     "data": {
      "text/plain": [
       "['FGSC.45',\n",
       " 'FGSC.25',\n",
       " 'NaN',\n",
       " 'FGSC.35',\n",
       " 'FGSC.15',\n",
       " 'FGSC.40',\n",
       " 'FGSC.30',\n",
       " 'FGSC.50',\n",
       " 'FGSC.20',\n",
       " 'FGSC.10',\n",
       " 'FGSC.55']"
      ]
     },
     "execution_count": 13,
     "metadata": {},
     "output_type": "execute_result"
    }
   ],
   "source": [
    "industry_list"
   ]
  },
  {
   "cell_type": "markdown",
   "metadata": {},
   "source": [
    "# get_industry dic"
   ]
  },
  {
   "cell_type": "code",
   "execution_count": 15,
   "metadata": {},
   "outputs": [],
   "source": [
    "industry_dic = make_loading_matrix(industry_list, industry_fg)"
   ]
  },
  {
   "cell_type": "code",
   "execution_count": 16,
   "metadata": {},
   "outputs": [
    {
     "data": {
      "text/plain": [
       "array([[1, 1, 1, ..., 0, 0, 0],\n",
       "       [1, 1, 1, ..., 0, 0, 0],\n",
       "       [1, 1, 1, ..., 0, 0, 0],\n",
       "       ...,\n",
       "       [1, 1, 1, ..., 0, 0, 0],\n",
       "       [1, 1, 1, ..., 0, 0, 0],\n",
       "       [1, 1, 1, ..., 0, 0, 0]])"
      ]
     },
     "execution_count": 16,
     "metadata": {},
     "output_type": "execute_result"
    }
   ],
   "source": [
    "industry_dic[industry_list[0]]"
   ]
  },
  {
   "cell_type": "code",
   "execution_count": 307,
   "metadata": {},
   "outputs": [
    {
     "data": {
      "text/plain": [
       "[<matplotlib.lines.Line2D at 0x1c7e5b84438>]"
      ]
     },
     "execution_count": 307,
     "metadata": {},
     "output_type": "execute_result"
    },
    {
     "data": {
      "image/png": "[encoded data removed]",
      "text/plain": [
       "<Figure size 432x288 with 1 Axes>"
      ]
     },
     "metadata": {
      "needs_background": "light"
     },
     "output_type": "display_data"
    }
   ],
   "source": [
    "loading_m= industry_dic[industry_list[1]]\n",
    "sector_1 = np.zeros(len(loading_m))\n",
    "for i in range(len(loading_m)) :\n",
    "    sector_1[i] = sum(loading_m[i])\n",
    "plt.plot(sector_1)"
   ]
  },
  {
   "cell_type": "code",
   "execution_count": 308,
   "metadata": {},
   "outputs": [
    {
     "data": {
      "text/plain": [
       "[<matplotlib.lines.Line2D at 0x1c7e599de80>]"
      ]
     },
     "execution_count": 308,
     "metadata": {},
     "output_type": "execute_result"
    },
    {
     "data": {
      "image/png": "[encoded data removed]",
      "text/plain": [
       "<Figure size 432x288 with 1 Axes>"
      ]
     },
     "metadata": {
      "needs_background": "light"
     },
     "output_type": "display_data"
    }
   ],
   "source": [
    "loading_m= industry_dic[industry_list[2]]\n",
    "sector_1 = np.zeros(len(loading_m))\n",
    "for i in range(len(loading_m)) :\n",
    "    sector_1[i] = sum(loading_m[i])\n",
    "plt.plot(sector_1)"
   ]
  },
  {
   "cell_type": "code",
   "execution_count": 309,
   "metadata": {},
   "outputs": [
    {
     "data": {
      "text/plain": [
       "[<matplotlib.lines.Line2D at 0x1c7e5563ac8>]"
      ]
     },
     "execution_count": 309,
     "metadata": {},
     "output_type": "execute_result"
    },
    {
     "data": {
      "image/png": "[encoded data removed]",
      "text/plain": [
       "<Figure size 432x288 with 1 Axes>"
      ]
     },
     "metadata": {
      "needs_background": "light"
     },
     "output_type": "display_data"
    }
   ],
   "source": [
    "loading_m= industry_dic[industry_list[3]]\n",
    "sector_1 = np.zeros(len(loading_m))\n",
    "for i in range(len(loading_m)) :\n",
    "    sector_1[i] = sum(loading_m[i])\n",
    "plt.plot(sector_1)"
   ]
  },
  {
   "cell_type": "code",
   "execution_count": 310,
   "metadata": {},
   "outputs": [
    {
     "data": {
      "text/plain": [
       "[<matplotlib.lines.Line2D at 0x1c94f2ada90>]"
      ]
     },
     "execution_count": 310,
     "metadata": {},
     "output_type": "execute_result"
    },
    {
     "data": {
      "image/png": "[encoded data removed]",
      "text/plain": [
       "<Figure size 432x288 with 1 Axes>"
      ]
     },
     "metadata": {
      "needs_background": "light"
     },
     "output_type": "display_data"
    }
   ],
   "source": [
    "loading_m= industry_dic[industry_list[4]]\n",
    "sector_1 = np.zeros(len(loading_m))\n",
    "for i in range(len(loading_m)) :\n",
    "    sector_1[i] = sum(loading_m[i])\n",
    "plt.plot(sector_1)"
   ]
  },
  {
   "cell_type": "markdown",
   "metadata": {},
   "source": [
    "# make portfolio "
   ]
  },
  {
   "cell_type": "code",
   "execution_count": 22,
   "metadata": {},
   "outputs": [
    {
     "name": "stdout",
     "output_type": "stream",
     "text": [
      "FGSC.45\n",
      "FGSC.25\n",
      "NaN\n"
     ]
    },
    {
     "name": "stderr",
     "output_type": "stream",
     "text": [
      "C:\\Users\\cobook\\Anaconda3\\lib\\site-packages\\ipykernel_launcher.py:17: RuntimeWarning: Mean of empty slice\n"
     ]
    },
    {
     "name": "stdout",
     "output_type": "stream",
     "text": [
      "FGSC.35\n",
      "FGSC.15\n",
      "FGSC.40\n",
      "FGSC.30\n",
      "FGSC.50\n",
      "FGSC.20\n",
      "FGSC.10\n",
      "FGSC.55\n"
     ]
    }
   ],
   "source": [
    "signal = price_s.rolling(5, min_periods=1).mean()\n",
    "portfolio_df,turn_over_df = mean_reversion(signal, industry_list, industry_dic)"
   ]
  },
  {
   "cell_type": "code",
   "execution_count": 24,
   "metadata": {},
   "outputs": [
    {
     "data": {
      "text/html": [
       "<div>\n",
       "<style scoped>\n",
       "    .dataframe tbody tr th:only-of-type {\n",
       "        vertical-align: middle;\n",
       "    }\n",
       "\n",
       "    .dataframe tbody tr th {\n",
       "        vertical-align: top;\n",
       "    }\n",
       "\n",
       "    .dataframe thead th {\n",
       "        text-align: right;\n",
       "    }\n",
       "</style>\n",
       "<table border=\"1\" class=\"dataframe\">\n",
       "  <thead>\n",
       "    <tr style=\"text-align: right;\">\n",
       "      <th></th>\n",
       "      <th>Sharp_ratio</th>\n",
       "      <th>Profit and Loss(%)</th>\n",
       "      <th>Turn_over_rate(%)</th>\n",
       "    </tr>\n",
       "  </thead>\n",
       "  <tbody>\n",
       "    <tr>\n",
       "      <th>2009-12-31</th>\n",
       "      <td>1.952500</td>\n",
       "      <td>5.121525</td>\n",
       "      <td>22.759087</td>\n",
       "    </tr>\n",
       "    <tr>\n",
       "      <th>2010-12-31</th>\n",
       "      <td>0.454815</td>\n",
       "      <td>0.927760</td>\n",
       "      <td>23.032617</td>\n",
       "    </tr>\n",
       "    <tr>\n",
       "      <th>2011-12-31</th>\n",
       "      <td>1.586978</td>\n",
       "      <td>4.855733</td>\n",
       "      <td>23.223668</td>\n",
       "    </tr>\n",
       "    <tr>\n",
       "      <th>2012-12-31</th>\n",
       "      <td>2.515367</td>\n",
       "      <td>5.439221</td>\n",
       "      <td>23.061258</td>\n",
       "    </tr>\n",
       "    <tr>\n",
       "      <th>2013-12-31</th>\n",
       "      <td>2.798358</td>\n",
       "      <td>4.764315</td>\n",
       "      <td>23.304145</td>\n",
       "    </tr>\n",
       "    <tr>\n",
       "      <th>2014-12-31</th>\n",
       "      <td>1.000591</td>\n",
       "      <td>1.621022</td>\n",
       "      <td>23.254226</td>\n",
       "    </tr>\n",
       "    <tr>\n",
       "      <th>2015-12-31</th>\n",
       "      <td>2.060435</td>\n",
       "      <td>5.462908</td>\n",
       "      <td>24.101652</td>\n",
       "    </tr>\n",
       "    <tr>\n",
       "      <th>2016-12-31</th>\n",
       "      <td>2.910449</td>\n",
       "      <td>6.455590</td>\n",
       "      <td>25.308454</td>\n",
       "    </tr>\n",
       "  </tbody>\n",
       "</table>\n",
       "</div>"
      ],
      "text/plain": [
       "            Sharp_ratio  Profit and Loss(%)  Turn_over_rate(%)\n",
       "2009-12-31     1.952500            5.121525          22.759087\n",
       "2010-12-31     0.454815            0.927760          23.032617\n",
       "2011-12-31     1.586978            4.855733          23.223668\n",
       "2012-12-31     2.515367            5.439221          23.061258\n",
       "2013-12-31     2.798358            4.764315          23.304145\n",
       "2014-12-31     1.000591            1.621022          23.254226\n",
       "2015-12-31     2.060435            5.462908          24.101652\n",
       "2016-12-31     2.910449            6.455590          25.308454"
      ]
     },
     "execution_count": 24,
     "metadata": {},
     "output_type": "execute_result"
    },
    {
     "data": {
      "image/png": "[encoded data removed]",
      "text/plain": [
       "<Figure size 720x360 with 1 Axes>"
      ]
     },
     "metadata": {
      "needs_background": "light"
     },
     "output_type": "display_data"
    }
   ],
   "source": [
    "summary_pnl(portfolio_df, turn_over_df, price_s)"
   ]
  },
  {
   "cell_type": "code",
   "execution_count": 28,
   "metadata": {},
   "outputs": [
    {
     "data": {
      "text/html": [
       "<div>\n",
       "<style scoped>\n",
       "    .dataframe tbody tr th:only-of-type {\n",
       "        vertical-align: middle;\n",
       "    }\n",
       "\n",
       "    .dataframe tbody tr th {\n",
       "        vertical-align: top;\n",
       "    }\n",
       "\n",
       "    .dataframe thead th {\n",
       "        text-align: right;\n",
       "    }\n",
       "</style>\n",
       "<table border=\"1\" class=\"dataframe\">\n",
       "  <thead>\n",
       "    <tr style=\"text-align: right;\">\n",
       "      <th></th>\n",
       "      <th>Sharp_ratio</th>\n",
       "      <th>Profit and Loss(%)</th>\n",
       "      <th>Turn_over_rate(%)</th>\n",
       "    </tr>\n",
       "  </thead>\n",
       "  <tbody>\n",
       "    <tr>\n",
       "      <th>2009-12-31</th>\n",
       "      <td>0.992095</td>\n",
       "      <td>0.11478</td>\n",
       "      <td>0.260317</td>\n",
       "    </tr>\n",
       "    <tr>\n",
       "      <th>2010-12-31</th>\n",
       "      <td>NaN</td>\n",
       "      <td>0.00000</td>\n",
       "      <td>0.000000</td>\n",
       "    </tr>\n",
       "    <tr>\n",
       "      <th>2011-12-31</th>\n",
       "      <td>NaN</td>\n",
       "      <td>0.00000</td>\n",
       "      <td>0.000000</td>\n",
       "    </tr>\n",
       "    <tr>\n",
       "      <th>2012-12-31</th>\n",
       "      <td>NaN</td>\n",
       "      <td>0.00000</td>\n",
       "      <td>0.000000</td>\n",
       "    </tr>\n",
       "    <tr>\n",
       "      <th>2013-12-31</th>\n",
       "      <td>NaN</td>\n",
       "      <td>0.00000</td>\n",
       "      <td>0.000000</td>\n",
       "    </tr>\n",
       "    <tr>\n",
       "      <th>2014-12-31</th>\n",
       "      <td>NaN</td>\n",
       "      <td>0.00000</td>\n",
       "      <td>0.000000</td>\n",
       "    </tr>\n",
       "    <tr>\n",
       "      <th>2015-12-31</th>\n",
       "      <td>NaN</td>\n",
       "      <td>0.00000</td>\n",
       "      <td>0.000000</td>\n",
       "    </tr>\n",
       "    <tr>\n",
       "      <th>2016-12-31</th>\n",
       "      <td>NaN</td>\n",
       "      <td>0.00000</td>\n",
       "      <td>0.000000</td>\n",
       "    </tr>\n",
       "  </tbody>\n",
       "</table>\n",
       "</div>"
      ],
      "text/plain": [
       "            Sharp_ratio  Profit and Loss(%)  Turn_over_rate(%)\n",
       "2009-12-31     0.992095             0.11478           0.260317\n",
       "2010-12-31          NaN             0.00000           0.000000\n",
       "2011-12-31          NaN             0.00000           0.000000\n",
       "2012-12-31          NaN             0.00000           0.000000\n",
       "2013-12-31          NaN             0.00000           0.000000\n",
       "2014-12-31          NaN             0.00000           0.000000\n",
       "2015-12-31          NaN             0.00000           0.000000\n",
       "2016-12-31          NaN             0.00000           0.000000"
      ]
     },
     "execution_count": 28,
     "metadata": {},
     "output_type": "execute_result"
    },
    {
     "data": {
      "image/png": "[encoded data removed]",
      "text/plain": [
       "<Figure size 720x360 with 1 Axes>"
      ]
     },
     "metadata": {
      "needs_background": "light"
     },
     "output_type": "display_data"
    }
   ],
   "source": [
    "zsummary_pnl(portfolio_df_nc, turn_over_df_nc, price_s)"
   ]
  }
 ],
 "metadata": {
  "colab": {
   "name": "mean_reversion.ipynb",
   "provenance": []
  },
  "kernelspec": {
   "display_name": "Python 3",
   "language": "python",
   "name": "python3"
  },
  "language_info": {
   "codemirror_mode": {
    "name": "ipython",
    "version": 3
   },
   "file_extension": ".py",
   "mimetype": "text/x-python",
   "name": "python",
   "nbconvert_exporter": "python",
   "pygments_lexer": "ipython3",
   "version": "3.7.3"
  }
 },
 "nbformat": 4,
 "nbformat_minor": 4
}
