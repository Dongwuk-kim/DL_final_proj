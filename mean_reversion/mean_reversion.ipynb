{
  "nbformat": 4,
  "nbformat_minor": 0,
  "metadata": {
    "kernelspec": {
      "display_name": "Python 3",
      "language": "python",
      "name": "python3"
    },
    "language_info": {
      "codemirror_mode": {
        "name": "ipython",
        "version": 3
      },
      "file_extension": ".py",
      "mimetype": "text/x-python",
      "name": "python",
      "nbconvert_exporter": "python",
      "pygments_lexer": "ipython3",
      "version": "3.7.3"
    },
    "colab": {
      "name": "mean_reversion.ipynb",
      "provenance": []
    }
  },
  "cells": [
    {
      "cell_type": "markdown",
      "metadata": {
        "id": "gMhHuBhQAAkw",
        "colab_type": "text"
      },
      "source": [
        "#For colab"
      ]
    },
    {
      "cell_type": "code",
      "metadata": {
        "id": "dNVNHP9egcT5",
        "colab_type": "code",
        "colab": {
          "base_uri": "https://localhost:8080/",
          "height": 35
        },
        "outputId": "89c3b62c-f956-4d0c-a704-149966c47e5b"
      },
      "source": [
        "import numpy as np\n",
        "import pandas as pd\n",
        "import collections\n",
        "import json\n",
        "from google.colab import drive\n",
        "drive.mount('/gdrive')"
      ],
      "execution_count": 165,
      "outputs": [
        {
          "output_type": "stream",
          "text": [
            "Drive already mounted at /gdrive; to attempt to forcibly remount, call drive.mount(\"/gdrive\", force_remount=True).\n"
          ],
          "name": "stdout"
        }
      ]
    },
    {
      "cell_type": "code",
      "metadata": {
        "id": "SqmG_eDUgcUI",
        "colab_type": "code",
        "colab": {}
      },
      "source": [
        "\"\"\"\n",
        "with open('..//data//daily_price_small.json') as json_file:\n",
        "    json_data = json.load(json_file)\n",
        "price_s = pd.read_json(json_data)\n",
        "\n",
        "\"\"\"\n",
        "\n",
        "\n",
        "#import price data\n",
        "with open('/gdrive/My Drive/대학원 2학기/딥러닝/Deeplearning_pj/DL_final_proj/data/daily_price_small.json') as f:\n",
        "    price_json = json.load(f)\n",
        "price_s = pd.read_json(price_json)\n",
        "\"\"\"\n",
        "\n",
        "with open('/gdrive/My Drive/대학원 2학기/딥러닝/Deeplearning_pj/DL_final_proj/data/daily_price.json') as f:\n",
        "    price_json = json.load(f)\n",
        "price_s = pd.read_json(price_json)\n",
        "\"\"\"\n",
        "\n",
        "#import cluster data; industry code\n",
        "with open('/gdrive/My Drive/대학원 2학기/딥러닝/Deeplearning_pj/DL_final_proj/data/industry_code.json') as f:\n",
        "    industry_json = json.load(f)\n",
        "industry_s = pd.read_json(industry_json)\n",
        "\n",
        "#Del off-days \n",
        "\n",
        "#idx of double \n",
        "double_idx = np.full(len(price_s.index), False, dtype = bool)\n",
        "\n",
        "for i in range(len(price_s.index)) :\n",
        "    oneday_arr = price_s.values[i]\n",
        "  \n",
        "    if i ==0 :\n",
        "        pre_arr = oneday_arr\n",
        "        continue ;\n",
        "    #get non np array for calc norm distance btw pre & curr day return \n",
        "    nz_idx = np.isnan(oneday_arr)\n",
        "\n",
        "    if np.linalg.norm(oneday_arr[~nz_idx]  - pre_arr[~nz_idx]) < 0.001 :\n",
        "        double_idx[i] = True\n",
        "        \n",
        "\n",
        "    pre_arr = oneday_arr\n",
        "\n",
        "# Extract only working days\n",
        "price_s = price_s.loc[price_s.index[~double_idx],:]\n",
        "industry_s = industry_s.loc[industry_s.index[~double_idx],:]\n"
      ],
      "execution_count": 0,
      "outputs": []
    },
    {
      "cell_type": "code",
      "metadata": {
        "id": "GUgi4dfDc9ox",
        "colab_type": "code",
        "colab": {}
      },
      "source": [
        "#re-sizeing industry_s\n",
        "dump_df = price_s.copy()\n",
        "for col in price_s.columns :\n",
        "    dump_df[col] = industry_s[col]\n",
        "industry_s = dump_df"
      ],
      "execution_count": 0,
      "outputs": []
    },
    {
      "cell_type": "code",
      "metadata": {
        "id": "1n6SEPF6Q3Km",
        "colab_type": "code",
        "colab": {}
      },
      "source": [
        "# there are some anormaly data with float and int\n",
        "for column in industry_s.columns:\n",
        "    industry_s[column] = industry_s[column].apply(lambda x : np.nan if type(x) == int or type(x) == float else x )\n"
      ],
      "execution_count": 0,
      "outputs": []
    },
    {
      "cell_type": "code",
      "metadata": {
        "id": "-VLTLr9MQ6oj",
        "colab_type": "code",
        "colab": {}
      },
      "source": [
        "# get_industry_list \n",
        "\n",
        "df = pd.read_excel(\"/gdrive/My Drive/대학원 2학기/딥러닝/Deeplearning_pj/DL_final_proj/raw_data/Industry_code.xlsx\")\n",
        "df.columns = df.iloc[7]\n",
        "df = df[13:]\n",
        "df = df.set_index('Symbol')\n",
        "\n",
        "for i in df.columns :\n",
        "    if i == df.columns[0]:\n",
        "        c = collections.Counter(df[i])\n",
        "    c += collections.Counter(df[i])\n",
        "\n",
        "industry_list = [*c.keys()]\n",
        "#industry_list\n",
        "industry_list = industry_list.remove(np.nan)\n",
        "\n"
      ],
      "execution_count": 0,
      "outputs": []
    },
    {
      "cell_type": "code",
      "metadata": {
        "id": "KXHOXIPmUMP6",
        "colab_type": "code",
        "colab": {}
      },
      "source": [
        "#get loading dic \n",
        "# \n",
        "industry_dic = {}\n",
        "for industry in industry_list :\n",
        "    #industry_dic.update({ industry :np.where(industry_s.values == industry, True, False)})\n",
        "    industry_dic.update({ industry :np.where(industry_s.values == industry, 1, 0)})\n"
      ],
      "execution_count": 0,
      "outputs": []
    },
    {
      "cell_type": "code",
      "metadata": {
        "id": "Xz62DUV3u13E",
        "colab_type": "code",
        "colab": {
          "base_uri": "https://localhost:8080/",
          "height": 35
        },
        "outputId": "e7edf466-b583-4075-f846-3b681b8a73c2"
      },
      "source": [
        "#np.matrix(industry_dic[industry_list[0]]).shape\n",
        "loading_m= industry_dic[industry_list[0]]"
      ],
      "execution_count": 199,
      "outputs": [
        {
          "output_type": "execute_result",
          "data": {
            "text/plain": [
              "array([1, 1, 0, ..., 0, 0, 0])"
            ]
          },
          "metadata": {
            "tags": []
          },
          "execution_count": 199
        }
      ]
    },
    {
      "cell_type": "markdown",
      "metadata": {
        "id": "-xPMiC6k27nB",
        "colab_type": "text"
      },
      "source": [
        "cluster meanreversion "
      ]
    },
    {
      "cell_type": "code",
      "metadata": {
        "id": "KbbdBpiLveEh",
        "colab_type": "code",
        "colab": {
          "base_uri": "https://localhost:8080/",
          "height": 52
        },
        "outputId": "53f22551-1358-4204-8209-2b08d07e7cf3"
      },
      "source": [
        "#5 Day Mean reversion  \n",
        "pr_rolling = price_s.rolling(5, min_periods=1).mean()\n",
        "pr_rolling_ar = pr_rolling.values\n",
        "\n",
        "\n",
        "input_data = pr_rolling\n",
        "#input_data = pr_rolling\n",
        "total_ammount = 1000000\n",
        "\n",
        "\n",
        "\n",
        "portfolio = np.zeros(price_s.shape)\n",
        "nn_price_s = np.where(np.isnan(price_s), 0, price_s)\n",
        "\n",
        "for industry in industry_list :\n",
        "    loading_m = industry_dic[industry]\n",
        "\n",
        "\n",
        "    for i in range(len(price_s.index)) :\n",
        "        if sum(loading_m[i]) == 0 :\n",
        "            continue ;\n",
        "\n",
        "        loading_return = np.multiply(loading_m[i] , nn_price_s[i])\n",
        "        portfolio[i] += -1 * (loading_return - np.nanmean(loading_return))\n",
        "\n",
        "abs_sum = np.sum(np.abs(portfolio), 1)\n",
        "weight = total_ammount/abs_sum \n",
        "weight[total_ammount/abs_sum == np.inf] = 0\n",
        "d = np.diag(weight)\n",
        "portfolio_w = np.matmul(d, portfolio )\n",
        "\n"
      ],
      "execution_count": 229,
      "outputs": [
        {
          "output_type": "stream",
          "text": [
            "/usr/local/lib/python3.6/dist-packages/ipykernel_launcher.py:26: RuntimeWarning: divide by zero encountered in true_divide\n",
            "/usr/local/lib/python3.6/dist-packages/ipykernel_launcher.py:27: RuntimeWarning: divide by zero encountered in true_divide\n"
          ],
          "name": "stderr"
        }
      ]
    },
    {
      "cell_type": "code",
      "metadata": {
        "id": "zx2-XjW10Z4M",
        "colab_type": "code",
        "colab": {
          "base_uri": "https://localhost:8080/",
          "height": 281
        },
        "outputId": "d957b360-d8e6-47c2-90c7-4d20024f4e4d"
      },
      "source": [
        "#make portfolio df with init zero\n",
        "portfolio_df = price_s.copy()\n",
        "for col in portfolio_df.columns:\n",
        "    portfolio_df[col].values[:] = 0\n",
        "\n",
        "portfolio_df.loc[:,:] = portfolio_w\n",
        "portfolio_df.head(4)"
      ],
      "execution_count": 232,
      "outputs": [
        {
          "output_type": "execute_result",
          "data": {
            "text/html": [
              "<div>\n",
              "<style scoped>\n",
              "    .dataframe tbody tr th:only-of-type {\n",
              "        vertical-align: middle;\n",
              "    }\n",
              "\n",
              "    .dataframe tbody tr th {\n",
              "        vertical-align: top;\n",
              "    }\n",
              "\n",
              "    .dataframe thead th {\n",
              "        text-align: right;\n",
              "    }\n",
              "</style>\n",
              "<table border=\"1\" class=\"dataframe\">\n",
              "  <thead>\n",
              "    <tr style=\"text-align: right;\">\n",
              "      <th></th>\n",
              "      <th>A005930</th>\n",
              "      <th>A000660</th>\n",
              "      <th>A035420</th>\n",
              "      <th>A005380</th>\n",
              "      <th>A207940</th>\n",
              "      <th>A068270</th>\n",
              "      <th>A012330</th>\n",
              "      <th>A051910</th>\n",
              "      <th>A055550</th>\n",
              "      <th>A051900</th>\n",
              "      <th>A028260</th>\n",
              "      <th>A017670</th>\n",
              "      <th>A005490</th>\n",
              "      <th>A034730</th>\n",
              "      <th>A105560</th>\n",
              "      <th>A000270</th>\n",
              "      <th>A015760</th>\n",
              "      <th>A006400</th>\n",
              "      <th>A018260</th>\n",
              "      <th>A096770</th>\n",
              "      <th>A032830</th>\n",
              "      <th>A033780</th>\n",
              "      <th>A035720</th>\n",
              "      <th>A003550</th>\n",
              "      <th>A036570</th>\n",
              "      <th>A090430</th>\n",
              "      <th>A010950</th>\n",
              "      <th>A066570</th>\n",
              "      <th>A000810</th>\n",
              "      <th>A086790</th>\n",
              "      <th>A316140</th>\n",
              "      <th>A009150</th>\n",
              "      <th>A009540</th>\n",
              "      <th>A010130</th>\n",
              "      <th>A011170</th>\n",
              "      <th>A251270</th>\n",
              "      <th>A002790</th>\n",
              "      <th>A030200</th>\n",
              "      <th>A024110</th>\n",
              "      <th>A035250</th>\n",
              "      <th>...</th>\n",
              "      <th>A032710</th>\n",
              "      <th>A037620</th>\n",
              "      <th>A038400</th>\n",
              "      <th>A042100</th>\n",
              "      <th>A045710</th>\n",
              "      <th>A045820</th>\n",
              "      <th>A051310</th>\n",
              "      <th>A053000</th>\n",
              "      <th>A060000</th>\n",
              "      <th>A063350</th>\n",
              "      <th>A063510</th>\n",
              "      <th>A064420</th>\n",
              "      <th>A067250</th>\n",
              "      <th>A068870</th>\n",
              "      <th>A069470</th>\n",
              "      <th>A076170</th>\n",
              "      <th>A079660</th>\n",
              "      <th>A101990</th>\n",
              "      <th>A103150</th>\n",
              "      <th>A103160</th>\n",
              "      <th>A104110</th>\n",
              "      <th>A104120</th>\n",
              "      <th>A108070</th>\n",
              "      <th>A110570</th>\n",
              "      <th>A114410</th>\n",
              "      <th>A117930</th>\n",
              "      <th>A121910</th>\n",
              "      <th>A122290</th>\n",
              "      <th>A122750</th>\n",
              "      <th>A192520</th>\n",
              "      <th>A192530</th>\n",
              "      <th>A272210</th>\n",
              "      <th>A308170</th>\n",
              "      <th>A317400</th>\n",
              "      <th>A322000</th>\n",
              "      <th>A900030</th>\n",
              "      <th>A900050</th>\n",
              "      <th>A950010</th>\n",
              "      <th>A950070</th>\n",
              "      <th>A950100</th>\n",
              "    </tr>\n",
              "  </thead>\n",
              "  <tbody>\n",
              "    <tr>\n",
              "      <th>2009-01-01</th>\n",
              "      <td>689.645305</td>\n",
              "      <td>-143.370707</td>\n",
              "      <td>-1141.921952</td>\n",
              "      <td>337.215454</td>\n",
              "      <td>337.215454</td>\n",
              "      <td>1650.817627</td>\n",
              "      <td>508.090533</td>\n",
              "      <td>112.941912</td>\n",
              "      <td>780.422691</td>\n",
              "      <td>-517.159943</td>\n",
              "      <td>337.215454</td>\n",
              "      <td>465.371764</td>\n",
              "      <td>-89.972244</td>\n",
              "      <td>337.215454</td>\n",
              "      <td>1576.059779</td>\n",
              "      <td>171.680221</td>\n",
              "      <td>785.762537</td>\n",
              "      <td>625.567150</td>\n",
              "      <td>337.215454</td>\n",
              "      <td>-3705.048143</td>\n",
              "      <td>337.215454</td>\n",
              "      <td>1592.079318</td>\n",
              "      <td>-517.159943</td>\n",
              "      <td>-292.886401</td>\n",
              "      <td>-1120.562567</td>\n",
              "      <td>-832.210871</td>\n",
              "      <td>508.090533</td>\n",
              "      <td>406.633455</td>\n",
              "      <td>-1115.222721</td>\n",
              "      <td>-1067.164105</td>\n",
              "      <td>337.215454</td>\n",
              "      <td>1592.079318</td>\n",
              "      <td>-479.781019</td>\n",
              "      <td>-554.538867</td>\n",
              "      <td>-501.140404</td>\n",
              "      <td>337.215454</td>\n",
              "      <td>-437.062249</td>\n",
              "      <td>481.391302</td>\n",
              "      <td>59.543450</td>\n",
              "      <td>-255.507478</td>\n",
              "      <td>...</td>\n",
              "      <td>337.215454</td>\n",
              "      <td>337.215454</td>\n",
              "      <td>337.215454</td>\n",
              "      <td>337.215454</td>\n",
              "      <td>337.215454</td>\n",
              "      <td>337.215454</td>\n",
              "      <td>337.215454</td>\n",
              "      <td>337.215454</td>\n",
              "      <td>337.215454</td>\n",
              "      <td>337.215454</td>\n",
              "      <td>337.215454</td>\n",
              "      <td>337.215454</td>\n",
              "      <td>337.215454</td>\n",
              "      <td>337.215454</td>\n",
              "      <td>337.215454</td>\n",
              "      <td>337.215454</td>\n",
              "      <td>337.215454</td>\n",
              "      <td>337.215454</td>\n",
              "      <td>337.215454</td>\n",
              "      <td>337.215454</td>\n",
              "      <td>337.215454</td>\n",
              "      <td>337.215454</td>\n",
              "      <td>337.215454</td>\n",
              "      <td>337.215454</td>\n",
              "      <td>337.215454</td>\n",
              "      <td>337.215454</td>\n",
              "      <td>337.215454</td>\n",
              "      <td>337.215454</td>\n",
              "      <td>337.215454</td>\n",
              "      <td>337.215454</td>\n",
              "      <td>337.215454</td>\n",
              "      <td>337.215454</td>\n",
              "      <td>337.215454</td>\n",
              "      <td>337.215454</td>\n",
              "      <td>337.215454</td>\n",
              "      <td>337.215454</td>\n",
              "      <td>337.215454</td>\n",
              "      <td>337.215454</td>\n",
              "      <td>337.215454</td>\n",
              "      <td>337.215454</td>\n",
              "    </tr>\n",
              "    <tr>\n",
              "      <th>2009-01-02</th>\n",
              "      <td>-1276.126807</td>\n",
              "      <td>-2452.632671</td>\n",
              "      <td>1168.612495</td>\n",
              "      <td>-1818.515951</td>\n",
              "      <td>402.886645</td>\n",
              "      <td>-402.720760</td>\n",
              "      <td>-3960.155438</td>\n",
              "      <td>-1898.279060</td>\n",
              "      <td>670.093061</td>\n",
              "      <td>2923.400901</td>\n",
              "      <td>402.886645</td>\n",
              "      <td>211.455182</td>\n",
              "      <td>-961.062525</td>\n",
              "      <td>402.886645</td>\n",
              "      <td>167.585472</td>\n",
              "      <td>-2153.521010</td>\n",
              "      <td>-338.910272</td>\n",
              "      <td>-829.453395</td>\n",
              "      <td>402.886645</td>\n",
              "      <td>-2616.147045</td>\n",
              "      <td>402.886645</td>\n",
              "      <td>-554.270668</td>\n",
              "      <td>2660.182640</td>\n",
              "      <td>-2025.900035</td>\n",
              "      <td>-1415.712249</td>\n",
              "      <td>1379.984735</td>\n",
              "      <td>-310.993184</td>\n",
              "      <td>-1036.837479</td>\n",
              "      <td>402.886645</td>\n",
              "      <td>1324.150558</td>\n",
              "      <td>402.886645</td>\n",
              "      <td>-1092.671656</td>\n",
              "      <td>-2496.502381</td>\n",
              "      <td>-1834.468573</td>\n",
              "      <td>-2915.258705</td>\n",
              "      <td>402.886645</td>\n",
              "      <td>1730.942416</td>\n",
              "      <td>-1722.800220</td>\n",
              "      <td>143.656539</td>\n",
              "      <td>402.886645</td>\n",
              "      <td>...</td>\n",
              "      <td>402.886645</td>\n",
              "      <td>402.886645</td>\n",
              "      <td>402.886645</td>\n",
              "      <td>402.886645</td>\n",
              "      <td>402.886645</td>\n",
              "      <td>402.886645</td>\n",
              "      <td>402.886645</td>\n",
              "      <td>402.886645</td>\n",
              "      <td>402.886645</td>\n",
              "      <td>402.886645</td>\n",
              "      <td>402.886645</td>\n",
              "      <td>402.886645</td>\n",
              "      <td>402.886645</td>\n",
              "      <td>402.886645</td>\n",
              "      <td>402.886645</td>\n",
              "      <td>402.886645</td>\n",
              "      <td>402.886645</td>\n",
              "      <td>402.886645</td>\n",
              "      <td>402.886645</td>\n",
              "      <td>402.886645</td>\n",
              "      <td>402.886645</td>\n",
              "      <td>402.886645</td>\n",
              "      <td>402.886645</td>\n",
              "      <td>402.886645</td>\n",
              "      <td>402.886645</td>\n",
              "      <td>402.886645</td>\n",
              "      <td>402.886645</td>\n",
              "      <td>402.886645</td>\n",
              "      <td>402.886645</td>\n",
              "      <td>402.886645</td>\n",
              "      <td>402.886645</td>\n",
              "      <td>402.886645</td>\n",
              "      <td>402.886645</td>\n",
              "      <td>402.886645</td>\n",
              "      <td>402.886645</td>\n",
              "      <td>402.886645</td>\n",
              "      <td>402.886645</td>\n",
              "      <td>402.886645</td>\n",
              "      <td>402.886645</td>\n",
              "      <td>402.886645</td>\n",
              "    </tr>\n",
              "    <tr>\n",
              "      <th>2009-01-05</th>\n",
              "      <td>-707.660970</td>\n",
              "      <td>-246.885819</td>\n",
              "      <td>610.667934</td>\n",
              "      <td>-4950.632153</td>\n",
              "      <td>111.494854</td>\n",
              "      <td>-842.053723</td>\n",
              "      <td>1391.425829</td>\n",
              "      <td>-2697.953637</td>\n",
              "      <td>-5744.189357</td>\n",
              "      <td>4604.052576</td>\n",
              "      <td>111.494854</td>\n",
              "      <td>1941.796148</td>\n",
              "      <td>-944.448201</td>\n",
              "      <td>111.494854</td>\n",
              "      <td>-9136.006441</td>\n",
              "      <td>-2736.351566</td>\n",
              "      <td>-1693.207821</td>\n",
              "      <td>-1014.844404</td>\n",
              "      <td>111.494854</td>\n",
              "      <td>-1309.228529</td>\n",
              "      <td>111.494854</td>\n",
              "      <td>2165.784069</td>\n",
              "      <td>322.683465</td>\n",
              "      <td>-803.655793</td>\n",
              "      <td>1506.619617</td>\n",
              "      <td>2114.586830</td>\n",
              "      <td>418.678288</td>\n",
              "      <td>-630.865112</td>\n",
              "      <td>962.648952</td>\n",
              "      <td>-6441.751739</td>\n",
              "      <td>111.494854</td>\n",
              "      <td>-74.095138</td>\n",
              "      <td>-336.480988</td>\n",
              "      <td>-5526.601092</td>\n",
              "      <td>-4803.440091</td>\n",
              "      <td>111.494854</td>\n",
              "      <td>1058.643775</td>\n",
              "      <td>-2153.982972</td>\n",
              "      <td>-6172.966234</td>\n",
              "      <td>1052.244121</td>\n",
              "      <td>...</td>\n",
              "      <td>111.494854</td>\n",
              "      <td>111.494854</td>\n",
              "      <td>111.494854</td>\n",
              "      <td>111.494854</td>\n",
              "      <td>111.494854</td>\n",
              "      <td>111.494854</td>\n",
              "      <td>111.494854</td>\n",
              "      <td>111.494854</td>\n",
              "      <td>111.494854</td>\n",
              "      <td>111.494854</td>\n",
              "      <td>111.494854</td>\n",
              "      <td>111.494854</td>\n",
              "      <td>111.494854</td>\n",
              "      <td>111.494854</td>\n",
              "      <td>111.494854</td>\n",
              "      <td>111.494854</td>\n",
              "      <td>111.494854</td>\n",
              "      <td>111.494854</td>\n",
              "      <td>111.494854</td>\n",
              "      <td>111.494854</td>\n",
              "      <td>111.494854</td>\n",
              "      <td>111.494854</td>\n",
              "      <td>111.494854</td>\n",
              "      <td>111.494854</td>\n",
              "      <td>111.494854</td>\n",
              "      <td>111.494854</td>\n",
              "      <td>111.494854</td>\n",
              "      <td>111.494854</td>\n",
              "      <td>111.494854</td>\n",
              "      <td>111.494854</td>\n",
              "      <td>111.494854</td>\n",
              "      <td>111.494854</td>\n",
              "      <td>111.494854</td>\n",
              "      <td>111.494854</td>\n",
              "      <td>111.494854</td>\n",
              "      <td>111.494854</td>\n",
              "      <td>111.494854</td>\n",
              "      <td>111.494854</td>\n",
              "      <td>111.494854</td>\n",
              "      <td>111.494854</td>\n",
              "    </tr>\n",
              "    <tr>\n",
              "      <th>2009-01-06</th>\n",
              "      <td>-1938.867432</td>\n",
              "      <td>-763.639376</td>\n",
              "      <td>2296.095344</td>\n",
              "      <td>-696.335566</td>\n",
              "      <td>453.006409</td>\n",
              "      <td>-2575.665013</td>\n",
              "      <td>903.424211</td>\n",
              "      <td>-75.069634</td>\n",
              "      <td>132.019011</td>\n",
              "      <td>-1265.829338</td>\n",
              "      <td>453.006409</td>\n",
              "      <td>199.322820</td>\n",
              "      <td>-390.879816</td>\n",
              "      <td>453.006409</td>\n",
              "      <td>-1146.753368</td>\n",
              "      <td>-256.272197</td>\n",
              "      <td>-1219.234393</td>\n",
              "      <td>-2239.145966</td>\n",
              "      <td>453.006409</td>\n",
              "      <td>80.246850</td>\n",
              "      <td>453.006409</td>\n",
              "      <td>453.006409</td>\n",
              "      <td>-1017.322965</td>\n",
              "      <td>-1405.614173</td>\n",
              "      <td>261.449413</td>\n",
              "      <td>33.651905</td>\n",
              "      <td>287.335494</td>\n",
              "      <td>-1529.867360</td>\n",
              "      <td>1426.323038</td>\n",
              "      <td>1069.095126</td>\n",
              "      <td>453.006409</td>\n",
              "      <td>-2161.487725</td>\n",
              "      <td>-629.031757</td>\n",
              "      <td>-287.335494</td>\n",
              "      <td>-235.563333</td>\n",
              "      <td>453.006409</td>\n",
              "      <td>-582.436812</td>\n",
              "      <td>199.322820</td>\n",
              "      <td>209.677252</td>\n",
              "      <td>69.892417</td>\n",
              "      <td>...</td>\n",
              "      <td>453.006409</td>\n",
              "      <td>453.006409</td>\n",
              "      <td>453.006409</td>\n",
              "      <td>453.006409</td>\n",
              "      <td>453.006409</td>\n",
              "      <td>453.006409</td>\n",
              "      <td>453.006409</td>\n",
              "      <td>453.006409</td>\n",
              "      <td>453.006409</td>\n",
              "      <td>453.006409</td>\n",
              "      <td>453.006409</td>\n",
              "      <td>453.006409</td>\n",
              "      <td>453.006409</td>\n",
              "      <td>453.006409</td>\n",
              "      <td>453.006409</td>\n",
              "      <td>453.006409</td>\n",
              "      <td>453.006409</td>\n",
              "      <td>453.006409</td>\n",
              "      <td>453.006409</td>\n",
              "      <td>453.006409</td>\n",
              "      <td>453.006409</td>\n",
              "      <td>453.006409</td>\n",
              "      <td>453.006409</td>\n",
              "      <td>453.006409</td>\n",
              "      <td>453.006409</td>\n",
              "      <td>453.006409</td>\n",
              "      <td>453.006409</td>\n",
              "      <td>453.006409</td>\n",
              "      <td>453.006409</td>\n",
              "      <td>453.006409</td>\n",
              "      <td>453.006409</td>\n",
              "      <td>453.006409</td>\n",
              "      <td>453.006409</td>\n",
              "      <td>453.006409</td>\n",
              "      <td>453.006409</td>\n",
              "      <td>453.006409</td>\n",
              "      <td>453.006409</td>\n",
              "      <td>453.006409</td>\n",
              "      <td>453.006409</td>\n",
              "      <td>453.006409</td>\n",
              "    </tr>\n",
              "  </tbody>\n",
              "</table>\n",
              "<p>4 rows × 1154 columns</p>\n",
              "</div>"
            ],
            "text/plain": [
              "                A005930      A000660  ...     A950070     A950100\n",
              "2009-01-01   689.645305  -143.370707  ...  337.215454  337.215454\n",
              "2009-01-02 -1276.126807 -2452.632671  ...  402.886645  402.886645\n",
              "2009-01-05  -707.660970  -246.885819  ...  111.494854  111.494854\n",
              "2009-01-06 -1938.867432  -763.639376  ...  453.006409  453.006409\n",
              "\n",
              "[4 rows x 1154 columns]"
            ]
          },
          "metadata": {
            "tags": []
          },
          "execution_count": 232
        }
      ]
    },
    {
      "cell_type": "code",
      "metadata": {
        "id": "mpxuybWt4Xrw",
        "colab_type": "code",
        "colab": {}
      },
      "source": [
        "portfolio_df = portfolio_df.shift(1)\n",
        "portfolio_df.head(4)"
      ],
      "execution_count": 0,
      "outputs": []
    },
    {
      "cell_type": "code",
      "metadata": {
        "id": "l098D_CNZduE",
        "colab_type": "code",
        "colab": {
          "base_uri": "https://localhost:8080/",
          "height": 52
        },
        "outputId": "d067ef79-6756-42e1-f396-595369114873"
      },
      "source": [
        "\"\"\"\n",
        "이거 계산 빠르게 만들어야 함..\n",
        "numpy matrix 연산으로 바꿔서 계산..\n",
        "각 클러스터 마다 demean 된 수익률 메트릭스 가지고 매트릭스를 더하면 그게 포트폴리오\n",
        "거기에 abs로 나누면되겠네.\n",
        "\n",
        "\"\"\"\n",
        "\n",
        "\n",
        "#make portfolio df with init zero\n",
        "portfolio_df = price_s.copy()\n",
        "for col in portfolio_df.columns:\n",
        "    portfolio_df[col].values[:] = 0\n",
        "\n",
        "\n",
        "#get portfolio matrix\n",
        "day_list = price_s.index\n",
        "\n",
        "for day_idx, day in enumerate(day_list) :\n",
        "    if day_idx == len(day_list) -1:\n",
        "        break ;\n",
        "\n",
        "    for cluster in industry_list :\n",
        "        daily_return_arr = price_s.values[day_idx]\n",
        "        k_loading_arr = industry_dic[cluster][day_idx]\n",
        "        nz_idx = np.isnan(daily_return_arr)\n",
        "        k_mean_re = np.nanmean(daily_return_arr[k_loading_arr])\n",
        "\n",
        "        #calc alpha \n",
        "        portfolio_df.loc[day_list[day_idx+1], k_loading_arr] = -1 * (daily_return_arr[k_loading_arr]- k_mean_re)\n",
        "        portfolio_df.loc[day_list[day_idx+1], nz_idx] = 0\n",
        "\n",
        "\n",
        "\n",
        "\"\"\"\n",
        "i = 12\n",
        "day = portfolio_df.index[0]\n",
        "daily_return_arr = price_s.values[i]\n",
        "k_loading_arr = industry_dic['I.005'][i]\n",
        "nz_idx = np.isnan(daily_return_arr)\n",
        "\n",
        "k_mean_re = np.nanmean(daily_return_arr[k_loading_arr])\n",
        "\n",
        "#portfolio_df.loc[day, k_loading_arr] = -1 * (np.where(np.isnan(daily_return_arr[k_loading_arr]), 0, daily_return_arr[k_loading_arr]) - k_mean_re)\n",
        "portfolio_df.loc[day, k_loading_arr] = -1 * (daily_return_arr[k_loading_arr]- k_mean_re)\n",
        "portfolio_df.loc[day, nz_idx] = 0\n",
        "\n",
        "\"\"\"\n",
        "\n",
        "\n",
        "\"\"\"\n",
        "checking portfolio weight\n",
        "#np.nansum(portfolio_df.loc[day, k_loading_arr].values)\n",
        "sum(portfolio_df.loc[day, k_loading_arr].values)\n",
        "\n",
        "\"\"\"\n",
        "#k_mean_re = (np.dot(daily_return_arr[~nz_idx],k_loading_arr[~nz_idx]))/np.nansum(k_loading_arr)\n",
        " "
      ],
      "execution_count": 162,
      "outputs": [
        {
          "output_type": "stream",
          "text": [
            "/usr/local/lib/python3.6/dist-packages/ipykernel_launcher.py:24: RuntimeWarning: Mean of empty slice\n"
          ],
          "name": "stderr"
        },
        {
          "output_type": "execute_result",
          "data": {
            "text/plain": [
              "'\\nchecking portfolio weight\\n#np.nansum(portfolio_df.loc[day, k_loading_arr].values)\\nsum(portfolio_df.loc[day, k_loading_arr].values)\\n\\n'"
            ]
          },
          "metadata": {
            "tags": []
          },
          "execution_count": 162
        }
      ]
    },
    {
      "cell_type": "code",
      "metadata": {
        "id": "2fIShIy0rh0E",
        "colab_type": "code",
        "colab": {}
      },
      "source": [
        "portfolio_df_2 = portfolio_df.copy()"
      ],
      "execution_count": 0,
      "outputs": []
    },
    {
      "cell_type": "markdown",
      "metadata": {
        "id": "vGsO61OtcI-i",
        "colab_type": "text"
      },
      "source": [
        "\n",
        "price data랑 industry 데이터 종목 검토 필요\n",
        "예상 시나리오 : price_s 가  필터링 된 종목일 것.\n",
        "그러면 일단 price_small에 맞춰서  industry_loading matrix 재조정 필요.\n"
      ]
    },
    {
      "cell_type": "code",
      "metadata": {
        "id": "wQ0KtMYIgcVH",
        "colab_type": "code",
        "colab": {}
      },
      "source": [
        "\n",
        "#5 Day Mean reversion  \n",
        "pr_rolling = price_s.rolling(5, min_periods=1).mean()\n",
        "pr_rolling_ar = pr_rolling.values\n",
        "\n",
        "\n",
        "input_data = price_s\n",
        "#input_data = pr_rolling\n",
        "total_ammount = 1000000\n",
        "\n",
        "#make portfolio df with init zero\n",
        "portfolio_df = price_s.copy()\n",
        "for col in portfolio_df.columns:\n",
        "    portfolio_df[col].values[:] = 0\n",
        "\n",
        "\n",
        "#Calc  alpha\n",
        "for i,index in enumerate(input_data.index) :\n",
        "    \n",
        "    if i == len(input_data.index)-1 :\n",
        "        break ;\n",
        "    day_pr_arr = input_data.values[i]\n",
        "    weight_value = total_ammount/ np.sum(np.abs(day_pr_arr[~np.isnan(day_pr_arr)]))   \n",
        "\n",
        "    alpha =  (day_pr_arr - np.nanmean(day_pr_arr))\n",
        "    #alpha = -1 * (day_pr_arr -pr_rolling_ar[i] )\n",
        "    alpha[~np.isnan(day_pr_arr)] = weight_value * alpha[~np.isnan(day_pr_arr)]\n",
        "    \n",
        "    portfolio_df.loc[input_data.index[i+1], :] = alpha\n",
        "\n",
        "\n",
        "        \n",
        "    "
      ],
      "execution_count": 0,
      "outputs": []
    },
    {
      "cell_type": "code",
      "metadata": {
        "id": "YcY6uGMygcVV",
        "colab_type": "code",
        "colab": {}
      },
      "source": [
        "#back-testing by portfolio\n",
        "price_arr = price_s.values\n",
        "port_arr = portfolio_df.values\n",
        "pf_p_l = np.zeros(len(port_arr))\n",
        "\n",
        "for i in range(len(port_arr)) :\n",
        "    a_1 = port_arr[i]\n",
        "    a_2 = price_arr[i]\n",
        "    pf_p_l[i] = np.inner(a_1[~np.isnan(a_1)], a_2[~np.isnan(a_1)])\n",
        "\n",
        "p_and_l = np.cumsum(pf_p_l[1:])/total_ammount\n"
      ],
      "execution_count": 0,
      "outputs": []
    },
    {
      "cell_type": "code",
      "metadata": {
        "id": "eR0kh1fztk0Y",
        "colab_type": "code",
        "colab": {
          "base_uri": "https://localhost:8080/",
          "height": 35
        },
        "outputId": "51320a42-ae2c-4ed8-8db3-966ca868876d"
      },
      "source": [
        "p_and_l"
      ],
      "execution_count": 182,
      "outputs": [
        {
          "output_type": "execute_result",
          "data": {
            "text/plain": [
              "array([nan, nan, nan, ..., nan, nan, nan])"
            ]
          },
          "metadata": {
            "tags": []
          },
          "execution_count": 182
        }
      ]
    },
    {
      "cell_type": "code",
      "metadata": {
        "colab_type": "code",
        "outputId": "39a15f03-15b6-44ed-f017-eb41afa9ed70",
        "id": "-wCJ6ta1tiys",
        "colab": {
          "base_uri": "https://localhost:8080/",
          "height": 592
        }
      },
      "source": [
        "\n",
        "pnl_s = pd.Series(p_and_l)\n",
        "pnl_s.index = price_s.index[:-1]\n",
        "\n",
        "from matplotlib import pyplot as plt\n",
        "plt.figure(figsize=(20,10))\n",
        "plt.plot(pnl_s)\n",
        "plt.grid(b = True)"
      ],
      "execution_count": 190,
      "outputs": [
        {
          "output_type": "display_data",
          "data": {
            "image/png": "[encoded data removed]",
            "text/plain": [
              "<Figure size 1440x720 with 1 Axes>"
            ]
          },
          "metadata": {
            "tags": []
          }
        }
      ]
    },
    {
      "cell_type": "code",
      "metadata": {
        "id": "b8k4BQFBgcV8",
        "colab_type": "code",
        "colab": {}
      },
      "source": [
        "from matplotlib import pyplot as plt\n",
        "plt.figure(figsize=(20,10))\n",
        "plt.plot(pnl_s)\n",
        "plt.grid(b = True)\n",
        "\n",
        "pf_p_l_s = pd.Series(pf_p_l)\n",
        "pf_p_l_s.index = price_s.index\n",
        "plt.figure(figsize=(20,10))\n",
        "plt.plot(pf_p_l_s)\n",
        "plt.grid(b = True)\n",
        "#pf_p_l_s\n"
      ],
      "execution_count": 0,
      "outputs": []
    },
    {
      "cell_type": "markdown",
      "metadata": {
        "id": "2ZVMWuKopcvF",
        "colab_type": "text"
      },
      "source": [
        "#Del off days\n"
      ]
    },
    {
      "cell_type": "code",
      "metadata": {
        "id": "blnJkWMXjjf5",
        "colab_type": "code",
        "colab": {}
      },
      "source": [
        "\n",
        "#idx of double \n",
        "double_idx = np.full(len(w=1price_s.index), False, dtype = bool)\n",
        "\n",
        "for i in range(len(price_s.index)) :\n",
        "    oneday_arr = price_s.values[i]\n",
        "  \n",
        "    if i ==0 :\n",
        "        pre_arr = oneday_arr\n",
        "        continue ;\n",
        "    #get non np array for calc norm distance btw pre & curr day return \n",
        "    nz_idx = np.isnan(oneday_arr)\n",
        "\n",
        "    if np.linalg.norm(oneday_arr[~nz_idx]  - pre_arr[~nz_idx]) < 0.001 :\n",
        "        double_idx[i] = True\n",
        "        \n",
        "\n",
        "    pre_arr = oneday_arr\n",
        "\n",
        "# Extract only working days\n",
        "real_price = price_s.loc[price_s.index[~double_idx],:]\n"
      ],
      "execution_count": 0,
      "outputs": []
    },
    {
      "cell_type": "markdown",
      "metadata": {
        "id": "t84q5Tg-DGwB",
        "colab_type": "text"
      },
      "source": [
        "#miscellaneous\n"
      ]
    },
    {
      "cell_type": "code",
      "metadata": {
        "id": "c-az2jT6DFRu",
        "colab_type": "code",
        "colab": {}
      },
      "source": [
        "price_s.values[0] - np.nanmean(price_s.values[0])\n",
        "np.nan(np.nanprice_s.values[0])\n",
        "np.isnan(price_s.values[0] )\n",
        "day_pr_arr = price_s.values[0]\n",
        "day_pr_arr_demean = day_pr_arr - np.nanmean(day_pr_arr)\n",
        "total_ammount = 1000000\n",
        "weight_value = total_ammount/ np.sum(np.abs(day_pr_arr[~np.isnan(day_pr_arr)]))\n",
        "alpha = day_pr_arr_demean\n",
        "alpha[~np.isnan(day_pr_arr)] = weight_value * alpha[~np.isnan(day_pr_arr)]\n",
        "portfolio_df = price_s.copy()\n",
        "for col in portfolio_df.columns:\n",
        "    portfolio_df[col].values[:] = 0\n",
        "portfolio_df.loc[price_s.index[1], :] = alpha"
      ],
      "execution_count": 0,
      "outputs": []
    }
  ]
}