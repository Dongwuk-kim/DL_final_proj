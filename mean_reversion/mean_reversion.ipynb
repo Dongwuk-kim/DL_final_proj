{
  "nbformat": 4,
  "nbformat_minor": 0,
  "metadata": {
    "kernelspec": {
      "display_name": "Python 3",
      "language": "python",
      "name": "python3"
    },
    "language_info": {
      "codemirror_mode": {
        "name": "ipython",
        "version": 3
      },
      "file_extension": ".py",
      "mimetype": "text/x-python",
      "name": "python",
      "nbconvert_exporter": "python",
      "pygments_lexer": "ipython3",
      "version": "3.7.3"
    },
    "colab": {
      "name": "mean_reversion.ipynb",
      "provenance": []
    }
  },
  "cells": [
    {
      "cell_type": "markdown",
      "metadata": {
        "id": "gMhHuBhQAAkw",
        "colab_type": "text"
      },
      "source": [
        "#For colab"
      ]
    },
    {
      "cell_type": "code",
      "metadata": {
        "id": "dNVNHP9egcT5",
        "colab_type": "code",
        "colab": {
          "base_uri": "https://localhost:8080/",
          "height": 35
        },
        "outputId": "9a6f9e08-72af-4f24-d405-5f72611c6b79"
      },
      "source": [
        "import numpy as np\n",
        "import pandas as pd\n",
        "import collections\n",
        "import json\n",
        "from google.colab import drive\n",
        "from matplotlib import pyplot as plt\n",
        "\n",
        "drive.mount('/gdrive')"
      ],
      "execution_count": 7,
      "outputs": [
        {
          "output_type": "stream",
          "text": [
            "Drive already mounted at /gdrive; to attempt to forcibly remount, call drive.mount(\"/gdrive\", force_remount=True).\n"
          ],
          "name": "stdout"
        }
      ]
    },
    {
      "cell_type": "code",
      "metadata": {
        "id": "u68pjQxBqmk1",
        "colab_type": "code",
        "colab": {}
      },
      "source": [
        "#No biased에 대한 결과가 요정도..\n",
        "def draw_pnl(input_pnl, index_list) :\n",
        "    draw_data = pd.Series(input_pnl)\n",
        "    draw_data.index = index_list\n",
        "    plt.figure(figsize=(10,5))\n",
        "    plt.plot(draw_data)\n",
        "    plt.grid(b = True)\n",
        "    return draw_data\n",
        "\n"
      ],
      "execution_count": 0,
      "outputs": []
    },
    {
      "cell_type": "code",
      "metadata": {
        "id": "SqmG_eDUgcUI",
        "colab_type": "code",
        "colab": {}
      },
      "source": [
        "\"\"\"\n",
        "with open('..//data//daily_price_small.json') as json_file:\n",
        "    json_data = json.load(json_file)\n",
        "price_s = pd.read_json(json_data)\n",
        "\n",
        "\"\"\"\n",
        "\n",
        "\n",
        "#import price data\n",
        "with open('/gdrive/My Drive/대학원 2학기/딥러닝/Deeplearning_pj/DL_final_proj/data/daily_price_small.json') as f:\n",
        "    price_json = json.load(f)\n",
        "price_s = pd.read_json(price_json)\n",
        "\"\"\"\n",
        "\n",
        "with open('/gdrive/My Drive/대학원 2학기/딥러닝/Deeplearning_pj/DL_final_proj/data/daily_price.json') as f:\n",
        "    price_json = json.load(f)\n",
        "price_s = pd.read_json(price_json)\n",
        "\"\"\"\n",
        "\n",
        "#import cluster data; industry code\n",
        "with open('/gdrive/My Drive/대학원 2학기/딥러닝/Deeplearning_pj/DL_final_proj/data/industry_code.json') as f:\n",
        "    industry_json = json.load(f)\n",
        "industry_s = pd.read_json(industry_json)\n",
        "\n",
        "#Del off-days \n",
        "\n",
        "#idx of double \n",
        "double_idx = np.full(len(price_s.index), False, dtype = bool)\n",
        "\n",
        "for i in range(len(price_s.index)) :\n",
        "    oneday_arr = price_s.values[i]\n",
        "  \n",
        "    if i ==0 :\n",
        "        pre_arr = oneday_arr\n",
        "        continue ;\n",
        "    #get non np array for calc norm distance btw pre & curr day return \n",
        "    nz_idx = np.isnan(oneday_arr)\n",
        "\n",
        "    if np.linalg.norm(oneday_arr[~nz_idx]  - pre_arr[~nz_idx]) < 0.001 :\n",
        "        double_idx[i] = True\n",
        "        \n",
        "\n",
        "    pre_arr = oneday_arr\n",
        "\n",
        "# Extract only working days\n",
        "price_s = price_s.loc[price_s.index[~double_idx],:]\n",
        "industry_s = industry_s.loc[industry_s.index[~double_idx],:]\n"
      ],
      "execution_count": 0,
      "outputs": []
    },
    {
      "cell_type": "code",
      "metadata": {
        "id": "QvjOIV_2oOkG",
        "colab_type": "code",
        "colab": {
          "base_uri": "https://localhost:8080/",
          "height": 533
        },
        "outputId": "d6a4706a-615c-4dd8-fa39-d03fef14a4bf"
      },
      "source": [
        "#Survival biased에 대한 결과가 요정도..\n",
        "daily_mean = np.cumsum (np.nansum(price_s.values, 1))\n",
        "draw_pnl(daily_mean, price_s.index)"
      ],
      "execution_count": 21,
      "outputs": [
        {
          "output_type": "execute_result",
          "data": {
            "text/plain": [
              "2009-01-01       737.16\n",
              "2009-01-02      1908.65\n",
              "2009-01-05      2119.86\n",
              "2009-01-06      3137.73\n",
              "2009-01-07      4357.12\n",
              "                ...    \n",
              "2019-11-08    101541.35\n",
              "2019-11-11    101513.74\n",
              "2019-11-12    101665.39\n",
              "2019-11-13    101453.86\n",
              "2019-11-14    101506.20\n",
              "Length: 2689, dtype: float64"
            ]
          },
          "metadata": {
            "tags": []
          },
          "execution_count": 21
        },
        {
          "output_type": "display_data",
          "data": {
            "image/png": "[encoded data removed]",
            "text/plain": [
              "<Figure size 720x360 with 1 Axes>"
            ]
          },
          "metadata": {
            "tags": []
          }
        }
      ]
    },
    {
      "cell_type": "code",
      "metadata": {
        "id": "kkMgjp1Vrin4",
        "colab_type": "code",
        "colab": {
          "base_uri": "https://localhost:8080/",
          "height": 533
        },
        "outputId": "711b9ec8-b386-41f0-9bd0-60ad03940037"
      },
      "source": [
        "daily_rolling_mean = np.cumsum (np.nansum(price_s.rolling(5).mean().values, 1))\n",
        "draw_pnl(daily_rolling_mean, price_s.index)"
      ],
      "execution_count": 22,
      "outputs": [
        {
          "output_type": "execute_result",
          "data": {
            "text/plain": [
              "2009-01-01        0.000\n",
              "2009-01-02        0.000\n",
              "2009-01-05        0.000\n",
              "2009-01-06        0.000\n",
              "2009-01-07      871.424\n",
              "                ...    \n",
              "2019-11-08    99272.148\n",
              "2019-11-11    99465.370\n",
              "2019-11-12    99633.076\n",
              "2019-11-13    99696.208\n",
              "2019-11-14    99745.900\n",
              "Length: 2689, dtype: float64"
            ]
          },
          "metadata": {
            "tags": []
          },
          "execution_count": 22
        },
        {
          "output_type": "display_data",
          "data": {
            "image/png": "[encoded data removed]",
            "text/plain": [
              "<Figure size 720x360 with 1 Axes>"
            ]
          },
          "metadata": {
            "tags": []
          }
        }
      ]
    },
    {
      "cell_type": "code",
      "metadata": {
        "id": "GUgi4dfDc9ox",
        "colab_type": "code",
        "colab": {}
      },
      "source": [
        "#re-sizeing industry_s\n",
        "dump_df = price_s.copy()\n",
        "for col in price_s.columns :\n",
        "    dump_df[col] = industry_s[col]\n",
        "industry_s = dump_df"
      ],
      "execution_count": 0,
      "outputs": []
    },
    {
      "cell_type": "code",
      "metadata": {
        "id": "1n6SEPF6Q3Km",
        "colab_type": "code",
        "colab": {}
      },
      "source": [
        "# there are some anormaly data with float and int\n",
        "for column in industry_s.columns:\n",
        "    industry_s[column] = industry_s[column].apply(lambda x : np.nan if type(x) == int or type(x) == float else x )\n"
      ],
      "execution_count": 0,
      "outputs": []
    },
    {
      "cell_type": "markdown",
      "metadata": {
        "id": "UL91VIypzeP4",
        "colab_type": "text"
      },
      "source": [
        "#Calc industry loading matrix\n",
        "\n"
      ]
    },
    {
      "cell_type": "code",
      "metadata": {
        "id": "-VLTLr9MQ6oj",
        "colab_type": "code",
        "colab": {}
      },
      "source": [
        "# get_industry_list \n",
        "\n",
        "df = pd.read_excel(\"/gdrive/My Drive/대학원 2학기/딥러닝/Deeplearning_pj/DL_final_proj/raw_data/Industry_code.xlsx\")\n",
        "df.columns = df.iloc[7]\n",
        "df = df[13:]\n",
        "df = df.set_index('Symbol')\n",
        "\n",
        "for i in df.columns :\n",
        "    if i == df.columns[0]:\n",
        "        c = collections.Counter(df[i])\n",
        "    c += collections.Counter(df[i])\n",
        "\n",
        "industry_list = [*c.keys()]\n",
        "#industry_list\n",
        "ndustry_list.remove(np.nan)\n",
        "\n"
      ],
      "execution_count": 0,
      "outputs": []
    },
    {
      "cell_type": "code",
      "metadata": {
        "id": "KXHOXIPmUMP6",
        "colab_type": "code",
        "colab": {}
      },
      "source": [
        "#get loading dic \n",
        "# \n",
        "industry_dic = {}\n",
        "for industry in industry_list :\n",
        "    #industry_dic.update({ industry :np.where(industry_s.values == industry, True, False)})\n",
        "    industry_dic.update({ industry :np.where(industry_s.values == industry, 1, 0)})\n",
        "\n",
        "#np.matrix(industry_dic[industry_list[0]]).shape\n",
        "loading_m= industry_dic[industry_list[0]]"
      ],
      "execution_count": 0,
      "outputs": []
    },
    {
      "cell_type": "markdown",
      "metadata": {
        "id": "-xPMiC6k27nB",
        "colab_type": "text"
      },
      "source": [
        "cluster meanreversion "
      ]
    },
    {
      "cell_type": "code",
      "metadata": {
        "id": "KbbdBpiLveEh",
        "colab_type": "code",
        "colab": {
          "base_uri": "https://localhost:8080/",
          "height": 281
        },
        "outputId": "008146dc-2cb6-4d3d-a68b-65f398b61c21"
      },
      "source": [
        "#5 Day Mean reversion  \n",
        "pr_rolling = price_s.rolling(5, min_periods=1).mean()\n",
        "pr_rolling_ar = pr_rolling.values\n",
        "\n",
        "\n",
        "input_data = pr_rolling\n",
        "total_ammount = 1\n",
        "\n",
        "portfolio = np.zeros(input_data.shape)\n",
        "nn_price_s = np.where(np.isnan(input_data), 0, input_data)\n",
        "\n",
        "for industry in industry_list :\n",
        "    loading_m = industry_dic[industry]\n",
        "    loading_return = np.multiply(loading_m , nn_price_s)\n",
        "    for i in range(len(price_s.index)) :\n",
        "        loading_return[i]  -= np.mean(loading_return[i])\n",
        "\n",
        "    loading_return = np.where(np.isnan(price_s.values[i]), 0, loading_return)\n",
        "    portfolio += loading_return\n",
        "portfolio = np.where(np.isnan(price_s.values),0 , portfolio)\n",
        "portfolio = np.where(portfolio > 0 , -1, 1)\n",
        "\n",
        "abs_sum = np.sum(np.abs(portfolio), 1)\n",
        "weight = total_ammount/abs_sum \n",
        "weight[total_ammount/abs_sum == np.inf] = 0\n",
        "d = np.diag(weight)\n",
        "portfolio_w = np.matmul(d, portfolio )\n",
        "\n",
        "\n",
        "#make portfolio df with init zero\n",
        "portfolio_df = price_s.copy()\n",
        "for col in portfolio_df.columns:\n",
        "    portfolio_df[col].values[:] = 0\n",
        "\n",
        "portfolio_df.loc[:,:] = portfolio_w\n",
        "portfolio_df = portfolio_df.shift(1)\n",
        "portfolio_df.head(4)\n"
      ],
      "execution_count": 97,
      "outputs": [
        {
          "output_type": "execute_result",
          "data": {
            "text/html": [
              "<div>\n",
              "<style scoped>\n",
              "    .dataframe tbody tr th:only-of-type {\n",
              "        vertical-align: middle;\n",
              "    }\n",
              "\n",
              "    .dataframe tbody tr th {\n",
              "        vertical-align: top;\n",
              "    }\n",
              "\n",
              "    .dataframe thead th {\n",
              "        text-align: right;\n",
              "    }\n",
              "</style>\n",
              "<table border=\"1\" class=\"dataframe\">\n",
              "  <thead>\n",
              "    <tr style=\"text-align: right;\">\n",
              "      <th></th>\n",
              "      <th>A005930</th>\n",
              "      <th>A000660</th>\n",
              "      <th>A035420</th>\n",
              "      <th>A005380</th>\n",
              "      <th>A207940</th>\n",
              "      <th>A068270</th>\n",
              "      <th>A012330</th>\n",
              "      <th>A051910</th>\n",
              "      <th>A055550</th>\n",
              "      <th>A051900</th>\n",
              "      <th>A028260</th>\n",
              "      <th>A017670</th>\n",
              "      <th>A005490</th>\n",
              "      <th>A034730</th>\n",
              "      <th>A105560</th>\n",
              "      <th>A000270</th>\n",
              "      <th>A015760</th>\n",
              "      <th>A006400</th>\n",
              "      <th>A018260</th>\n",
              "      <th>A096770</th>\n",
              "      <th>A032830</th>\n",
              "      <th>A033780</th>\n",
              "      <th>A035720</th>\n",
              "      <th>A003550</th>\n",
              "      <th>A036570</th>\n",
              "      <th>A090430</th>\n",
              "      <th>A010950</th>\n",
              "      <th>A066570</th>\n",
              "      <th>A000810</th>\n",
              "      <th>A086790</th>\n",
              "      <th>A316140</th>\n",
              "      <th>A009150</th>\n",
              "      <th>A009540</th>\n",
              "      <th>A010130</th>\n",
              "      <th>A011170</th>\n",
              "      <th>A251270</th>\n",
              "      <th>A002790</th>\n",
              "      <th>A030200</th>\n",
              "      <th>A024110</th>\n",
              "      <th>A035250</th>\n",
              "      <th>...</th>\n",
              "      <th>A032710</th>\n",
              "      <th>A037620</th>\n",
              "      <th>A038400</th>\n",
              "      <th>A042100</th>\n",
              "      <th>A045710</th>\n",
              "      <th>A045820</th>\n",
              "      <th>A051310</th>\n",
              "      <th>A053000</th>\n",
              "      <th>A060000</th>\n",
              "      <th>A063350</th>\n",
              "      <th>A063510</th>\n",
              "      <th>A064420</th>\n",
              "      <th>A067250</th>\n",
              "      <th>A068870</th>\n",
              "      <th>A069470</th>\n",
              "      <th>A076170</th>\n",
              "      <th>A079660</th>\n",
              "      <th>A101990</th>\n",
              "      <th>A103150</th>\n",
              "      <th>A103160</th>\n",
              "      <th>A104110</th>\n",
              "      <th>A104120</th>\n",
              "      <th>A108070</th>\n",
              "      <th>A110570</th>\n",
              "      <th>A114410</th>\n",
              "      <th>A117930</th>\n",
              "      <th>A121910</th>\n",
              "      <th>A122290</th>\n",
              "      <th>A122750</th>\n",
              "      <th>A192520</th>\n",
              "      <th>A192530</th>\n",
              "      <th>A272210</th>\n",
              "      <th>A308170</th>\n",
              "      <th>A317400</th>\n",
              "      <th>A322000</th>\n",
              "      <th>A900030</th>\n",
              "      <th>A900050</th>\n",
              "      <th>A950010</th>\n",
              "      <th>A950070</th>\n",
              "      <th>A950100</th>\n",
              "    </tr>\n",
              "  </thead>\n",
              "  <tbody>\n",
              "    <tr>\n",
              "      <th>2009-01-01</th>\n",
              "      <td>NaN</td>\n",
              "      <td>NaN</td>\n",
              "      <td>NaN</td>\n",
              "      <td>NaN</td>\n",
              "      <td>NaN</td>\n",
              "      <td>NaN</td>\n",
              "      <td>NaN</td>\n",
              "      <td>NaN</td>\n",
              "      <td>NaN</td>\n",
              "      <td>NaN</td>\n",
              "      <td>NaN</td>\n",
              "      <td>NaN</td>\n",
              "      <td>NaN</td>\n",
              "      <td>NaN</td>\n",
              "      <td>NaN</td>\n",
              "      <td>NaN</td>\n",
              "      <td>NaN</td>\n",
              "      <td>NaN</td>\n",
              "      <td>NaN</td>\n",
              "      <td>NaN</td>\n",
              "      <td>NaN</td>\n",
              "      <td>NaN</td>\n",
              "      <td>NaN</td>\n",
              "      <td>NaN</td>\n",
              "      <td>NaN</td>\n",
              "      <td>NaN</td>\n",
              "      <td>NaN</td>\n",
              "      <td>NaN</td>\n",
              "      <td>NaN</td>\n",
              "      <td>NaN</td>\n",
              "      <td>NaN</td>\n",
              "      <td>NaN</td>\n",
              "      <td>NaN</td>\n",
              "      <td>NaN</td>\n",
              "      <td>NaN</td>\n",
              "      <td>NaN</td>\n",
              "      <td>NaN</td>\n",
              "      <td>NaN</td>\n",
              "      <td>NaN</td>\n",
              "      <td>NaN</td>\n",
              "      <td>...</td>\n",
              "      <td>NaN</td>\n",
              "      <td>NaN</td>\n",
              "      <td>NaN</td>\n",
              "      <td>NaN</td>\n",
              "      <td>NaN</td>\n",
              "      <td>NaN</td>\n",
              "      <td>NaN</td>\n",
              "      <td>NaN</td>\n",
              "      <td>NaN</td>\n",
              "      <td>NaN</td>\n",
              "      <td>NaN</td>\n",
              "      <td>NaN</td>\n",
              "      <td>NaN</td>\n",
              "      <td>NaN</td>\n",
              "      <td>NaN</td>\n",
              "      <td>NaN</td>\n",
              "      <td>NaN</td>\n",
              "      <td>NaN</td>\n",
              "      <td>NaN</td>\n",
              "      <td>NaN</td>\n",
              "      <td>NaN</td>\n",
              "      <td>NaN</td>\n",
              "      <td>NaN</td>\n",
              "      <td>NaN</td>\n",
              "      <td>NaN</td>\n",
              "      <td>NaN</td>\n",
              "      <td>NaN</td>\n",
              "      <td>NaN</td>\n",
              "      <td>NaN</td>\n",
              "      <td>NaN</td>\n",
              "      <td>NaN</td>\n",
              "      <td>NaN</td>\n",
              "      <td>NaN</td>\n",
              "      <td>NaN</td>\n",
              "      <td>NaN</td>\n",
              "      <td>NaN</td>\n",
              "      <td>NaN</td>\n",
              "      <td>NaN</td>\n",
              "      <td>NaN</td>\n",
              "      <td>NaN</td>\n",
              "    </tr>\n",
              "    <tr>\n",
              "      <th>2009-01-02</th>\n",
              "      <td>0.000867</td>\n",
              "      <td>-0.000867</td>\n",
              "      <td>-0.000867</td>\n",
              "      <td>0.000867</td>\n",
              "      <td>0.000867</td>\n",
              "      <td>0.000867</td>\n",
              "      <td>0.000867</td>\n",
              "      <td>0.000867</td>\n",
              "      <td>0.000867</td>\n",
              "      <td>-0.000867</td>\n",
              "      <td>0.000867</td>\n",
              "      <td>0.000867</td>\n",
              "      <td>-0.000867</td>\n",
              "      <td>0.000867</td>\n",
              "      <td>0.000867</td>\n",
              "      <td>0.000867</td>\n",
              "      <td>0.000867</td>\n",
              "      <td>0.000867</td>\n",
              "      <td>0.000867</td>\n",
              "      <td>-0.000867</td>\n",
              "      <td>0.000867</td>\n",
              "      <td>0.000867</td>\n",
              "      <td>-0.000867</td>\n",
              "      <td>-0.000867</td>\n",
              "      <td>-0.000867</td>\n",
              "      <td>-0.000867</td>\n",
              "      <td>0.000867</td>\n",
              "      <td>0.000867</td>\n",
              "      <td>-0.000867</td>\n",
              "      <td>-0.000867</td>\n",
              "      <td>0.000867</td>\n",
              "      <td>0.000867</td>\n",
              "      <td>-0.000867</td>\n",
              "      <td>-0.000867</td>\n",
              "      <td>-0.000867</td>\n",
              "      <td>0.000867</td>\n",
              "      <td>-0.000867</td>\n",
              "      <td>0.000867</td>\n",
              "      <td>0.000867</td>\n",
              "      <td>-0.000867</td>\n",
              "      <td>...</td>\n",
              "      <td>0.000867</td>\n",
              "      <td>0.000867</td>\n",
              "      <td>0.000867</td>\n",
              "      <td>0.000867</td>\n",
              "      <td>0.000867</td>\n",
              "      <td>0.000867</td>\n",
              "      <td>0.000867</td>\n",
              "      <td>0.000867</td>\n",
              "      <td>0.000867</td>\n",
              "      <td>0.000867</td>\n",
              "      <td>0.000867</td>\n",
              "      <td>0.000867</td>\n",
              "      <td>0.000867</td>\n",
              "      <td>0.000867</td>\n",
              "      <td>0.000867</td>\n",
              "      <td>0.000867</td>\n",
              "      <td>0.000867</td>\n",
              "      <td>0.000867</td>\n",
              "      <td>0.000867</td>\n",
              "      <td>0.000867</td>\n",
              "      <td>0.000867</td>\n",
              "      <td>0.000867</td>\n",
              "      <td>0.000867</td>\n",
              "      <td>0.000867</td>\n",
              "      <td>0.000867</td>\n",
              "      <td>0.000867</td>\n",
              "      <td>0.000867</td>\n",
              "      <td>0.000867</td>\n",
              "      <td>0.000867</td>\n",
              "      <td>0.000867</td>\n",
              "      <td>0.000867</td>\n",
              "      <td>0.000867</td>\n",
              "      <td>0.000867</td>\n",
              "      <td>0.000867</td>\n",
              "      <td>0.000867</td>\n",
              "      <td>0.000867</td>\n",
              "      <td>0.000867</td>\n",
              "      <td>0.000867</td>\n",
              "      <td>0.000867</td>\n",
              "      <td>0.000867</td>\n",
              "    </tr>\n",
              "    <tr>\n",
              "      <th>2009-01-05</th>\n",
              "      <td>-0.000867</td>\n",
              "      <td>-0.000867</td>\n",
              "      <td>0.000867</td>\n",
              "      <td>-0.000867</td>\n",
              "      <td>0.000867</td>\n",
              "      <td>0.000867</td>\n",
              "      <td>-0.000867</td>\n",
              "      <td>-0.000867</td>\n",
              "      <td>0.000867</td>\n",
              "      <td>0.000867</td>\n",
              "      <td>0.000867</td>\n",
              "      <td>0.000867</td>\n",
              "      <td>-0.000867</td>\n",
              "      <td>0.000867</td>\n",
              "      <td>0.000867</td>\n",
              "      <td>-0.000867</td>\n",
              "      <td>0.000867</td>\n",
              "      <td>-0.000867</td>\n",
              "      <td>0.000867</td>\n",
              "      <td>-0.000867</td>\n",
              "      <td>0.000867</td>\n",
              "      <td>0.000867</td>\n",
              "      <td>0.000867</td>\n",
              "      <td>-0.000867</td>\n",
              "      <td>-0.000867</td>\n",
              "      <td>0.000867</td>\n",
              "      <td>0.000867</td>\n",
              "      <td>-0.000867</td>\n",
              "      <td>-0.000867</td>\n",
              "      <td>0.000867</td>\n",
              "      <td>0.000867</td>\n",
              "      <td>0.000867</td>\n",
              "      <td>-0.000867</td>\n",
              "      <td>-0.000867</td>\n",
              "      <td>-0.000867</td>\n",
              "      <td>0.000867</td>\n",
              "      <td>0.000867</td>\n",
              "      <td>-0.000867</td>\n",
              "      <td>0.000867</td>\n",
              "      <td>0.000867</td>\n",
              "      <td>...</td>\n",
              "      <td>0.000867</td>\n",
              "      <td>0.000867</td>\n",
              "      <td>0.000867</td>\n",
              "      <td>0.000867</td>\n",
              "      <td>0.000867</td>\n",
              "      <td>0.000867</td>\n",
              "      <td>0.000867</td>\n",
              "      <td>0.000867</td>\n",
              "      <td>0.000867</td>\n",
              "      <td>0.000867</td>\n",
              "      <td>0.000867</td>\n",
              "      <td>0.000867</td>\n",
              "      <td>0.000867</td>\n",
              "      <td>0.000867</td>\n",
              "      <td>0.000867</td>\n",
              "      <td>0.000867</td>\n",
              "      <td>0.000867</td>\n",
              "      <td>0.000867</td>\n",
              "      <td>0.000867</td>\n",
              "      <td>0.000867</td>\n",
              "      <td>0.000867</td>\n",
              "      <td>0.000867</td>\n",
              "      <td>0.000867</td>\n",
              "      <td>0.000867</td>\n",
              "      <td>0.000867</td>\n",
              "      <td>0.000867</td>\n",
              "      <td>0.000867</td>\n",
              "      <td>0.000867</td>\n",
              "      <td>0.000867</td>\n",
              "      <td>0.000867</td>\n",
              "      <td>0.000867</td>\n",
              "      <td>0.000867</td>\n",
              "      <td>0.000867</td>\n",
              "      <td>0.000867</td>\n",
              "      <td>0.000867</td>\n",
              "      <td>0.000867</td>\n",
              "      <td>0.000867</td>\n",
              "      <td>0.000867</td>\n",
              "      <td>0.000867</td>\n",
              "      <td>0.000867</td>\n",
              "    </tr>\n",
              "    <tr>\n",
              "      <th>2009-01-06</th>\n",
              "      <td>-0.000867</td>\n",
              "      <td>-0.000867</td>\n",
              "      <td>0.000867</td>\n",
              "      <td>-0.000867</td>\n",
              "      <td>0.000867</td>\n",
              "      <td>0.000867</td>\n",
              "      <td>-0.000867</td>\n",
              "      <td>-0.000867</td>\n",
              "      <td>-0.000867</td>\n",
              "      <td>0.000867</td>\n",
              "      <td>0.000867</td>\n",
              "      <td>0.000867</td>\n",
              "      <td>-0.000867</td>\n",
              "      <td>0.000867</td>\n",
              "      <td>-0.000867</td>\n",
              "      <td>-0.000867</td>\n",
              "      <td>-0.000867</td>\n",
              "      <td>-0.000867</td>\n",
              "      <td>0.000867</td>\n",
              "      <td>-0.000867</td>\n",
              "      <td>0.000867</td>\n",
              "      <td>0.000867</td>\n",
              "      <td>0.000867</td>\n",
              "      <td>-0.000867</td>\n",
              "      <td>-0.000867</td>\n",
              "      <td>0.000867</td>\n",
              "      <td>0.000867</td>\n",
              "      <td>-0.000867</td>\n",
              "      <td>0.000867</td>\n",
              "      <td>-0.000867</td>\n",
              "      <td>0.000867</td>\n",
              "      <td>0.000867</td>\n",
              "      <td>-0.000867</td>\n",
              "      <td>-0.000867</td>\n",
              "      <td>-0.000867</td>\n",
              "      <td>0.000867</td>\n",
              "      <td>0.000867</td>\n",
              "      <td>-0.000867</td>\n",
              "      <td>-0.000867</td>\n",
              "      <td>0.000867</td>\n",
              "      <td>...</td>\n",
              "      <td>0.000867</td>\n",
              "      <td>0.000867</td>\n",
              "      <td>0.000867</td>\n",
              "      <td>0.000867</td>\n",
              "      <td>0.000867</td>\n",
              "      <td>0.000867</td>\n",
              "      <td>0.000867</td>\n",
              "      <td>0.000867</td>\n",
              "      <td>0.000867</td>\n",
              "      <td>0.000867</td>\n",
              "      <td>0.000867</td>\n",
              "      <td>0.000867</td>\n",
              "      <td>0.000867</td>\n",
              "      <td>0.000867</td>\n",
              "      <td>0.000867</td>\n",
              "      <td>0.000867</td>\n",
              "      <td>0.000867</td>\n",
              "      <td>0.000867</td>\n",
              "      <td>0.000867</td>\n",
              "      <td>0.000867</td>\n",
              "      <td>0.000867</td>\n",
              "      <td>0.000867</td>\n",
              "      <td>0.000867</td>\n",
              "      <td>0.000867</td>\n",
              "      <td>0.000867</td>\n",
              "      <td>0.000867</td>\n",
              "      <td>0.000867</td>\n",
              "      <td>0.000867</td>\n",
              "      <td>0.000867</td>\n",
              "      <td>0.000867</td>\n",
              "      <td>0.000867</td>\n",
              "      <td>0.000867</td>\n",
              "      <td>0.000867</td>\n",
              "      <td>0.000867</td>\n",
              "      <td>0.000867</td>\n",
              "      <td>0.000867</td>\n",
              "      <td>0.000867</td>\n",
              "      <td>0.000867</td>\n",
              "      <td>0.000867</td>\n",
              "      <td>0.000867</td>\n",
              "    </tr>\n",
              "  </tbody>\n",
              "</table>\n",
              "<p>4 rows × 1154 columns</p>\n",
              "</div>"
            ],
            "text/plain": [
              "             A005930   A000660   A035420  ...   A950010   A950070   A950100\n",
              "2009-01-01       NaN       NaN       NaN  ...       NaN       NaN       NaN\n",
              "2009-01-02  0.000867 -0.000867 -0.000867  ...  0.000867  0.000867  0.000867\n",
              "2009-01-05 -0.000867 -0.000867  0.000867  ...  0.000867  0.000867  0.000867\n",
              "2009-01-06 -0.000867 -0.000867  0.000867  ...  0.000867  0.000867  0.000867\n",
              "\n",
              "[4 rows x 1154 columns]"
            ]
          },
          "metadata": {
            "tags": []
          },
          "execution_count": 97
        }
      ]
    },
    {
      "cell_type": "code",
      "metadata": {
        "id": "Ufp83hLg9UQM",
        "colab_type": "code",
        "colab": {}
      },
      "source": [
        "industry_s.tail(300)"
      ],
      "execution_count": 0,
      "outputs": []
    },
    {
      "cell_type": "code",
      "metadata": {
        "id": "bbF7aaTG0uGI",
        "colab_type": "code",
        "colab": {
          "base_uri": "https://localhost:8080/",
          "height": 533
        },
        "outputId": "5db370e2-d083-4e5e-80df-d545e1e5f892"
      },
      "source": [
        "daily_pnl = np.nansum(np.multiply( portfolio_df.values, price_s.values),1)\n",
        "draw_pnl(np.cumsum(daily_pnl[:2400]), price_s.index[:2400])"
      ],
      "execution_count": 108,
      "outputs": [
        {
          "output_type": "execute_result",
          "data": {
            "text/plain": [
              "2009-01-01     0.000000\n",
              "2009-01-02     0.278674\n",
              "2009-01-05     0.169584\n",
              "2009-01-06    -0.016664\n",
              "2009-01-07    -0.500243\n",
              "                ...    \n",
              "2018-09-03    43.272782\n",
              "2018-09-04    43.273180\n",
              "2018-09-05    43.296768\n",
              "2018-09-06    43.222218\n",
              "2018-09-07    43.143510\n",
              "Length: 2400, dtype: float64"
            ]
          },
          "metadata": {
            "tags": []
          },
          "execution_count": 108
        },
        {
          "output_type": "display_data",
          "data": {
            "image/png": "[encoded data removed]",
            "text/plain": [
              "<Figure size 720x360 with 1 Axes>"
            ]
          },
          "metadata": {
            "tags": []
          }
        }
      ]
    },
    {
      "cell_type": "code",
      "metadata": {
        "id": "l098D_CNZduE",
        "colab_type": "code",
        "colab": {
          "base_uri": "https://localhost:8080/",
          "height": 52
        },
        "outputId": "d067ef79-6756-42e1-f396-595369114873"
      },
      "source": [
        "\"\"\"\n",
        "이거 계산 빠르게 만들어야 함..\n",
        "numpy matrix 연산으로 바꿔서 계산..\n",
        "각 클러스터 마다 demean 된 수익률 메트릭스 가지고 매트릭스를 더하면 그게 포트폴리오\n",
        "거기에 abs로 나누면되겠네.\n",
        "\n",
        "\"\"\"\n",
        "\n",
        "\n",
        "#make portfolio df with init zero\n",
        "portfolio_df = price_s.copy()\n",
        "for col in portfolio_df.columns:\n",
        "    portfolio_df[col].values[:] = 0\n",
        "\n",
        "\n",
        "#get portfolio matrix\n",
        "day_list = price_s.index\n",
        "\n",
        "for day_idx, day in enumerate(day_list) :\n",
        "    if day_idx == len(day_list) -1:\n",
        "        break ;\n",
        "\n",
        "    for cluster in industry_list :\n",
        "        daily_return_arr = price_s.values[day_idx]\n",
        "        k_loading_arr = industry_dic[cluster][day_idx]\n",
        "        nz_idx = np.isnan(daily_return_arr)\n",
        "        k_mean_re = np.nanmean(daily_return_arr[k_loading_arr])\n",
        "\n",
        "        #calc alpha \n",
        "        portfolio_df.loc[day_list[day_idx+1], k_loading_arr] = -1 * (daily_return_arr[k_loading_arr]- k_mean_re)\n",
        "        portfolio_df.loc[day_list[day_idx+1], nz_idx] = 0\n",
        "\n",
        "\n",
        "\n",
        "\"\"\"\n",
        "i = 12\n",
        "day = portfolio_df.index[0]\n",
        "daily_return_arr = price_s.values[i]\n",
        "k_loading_arr = industry_dic['I.005'][i]\n",
        "nz_idx = np.isnan(daily_return_arr)\n",
        "\n",
        "k_mean_re = np.nanmean(daily_return_arr[k_loading_arr])\n",
        "\n",
        "#portfolio_df.loc[day, k_loading_arr] = -1 * (np.where(np.isnan(daily_return_arr[k_loading_arr]), 0, daily_return_arr[k_loading_arr]) - k_mean_re)\n",
        "portfolio_df.loc[day, k_loading_arr] = -1 * (daily_return_arr[k_loading_arr]- k_mean_re)\n",
        "portfolio_df.loc[day, nz_idx] = 0\n",
        "\n",
        "\"\"\"\n",
        "\n",
        "\n",
        "\"\"\"\n",
        "checking portfolio weight\n",
        "#np.nansum(portfolio_df.loc[day, k_loading_arr].values)\n",
        "sum(portfolio_df.loc[day, k_loading_arr].values)\n",
        "\n",
        "\"\"\"\n",
        "#k_mean_re = (np.dot(daily_return_arr[~nz_idx],k_loading_arr[~nz_idx]))/np.nansum(k_loading_arr)\n",
        " "
      ],
      "execution_count": 162,
      "outputs": [
        {
          "output_type": "stream",
          "text": [
            "/usr/local/lib/python3.6/dist-packages/ipykernel_launcher.py:24: RuntimeWarning: Mean of empty slice\n"
          ],
          "name": "stderr"
        },
        {
          "output_type": "execute_result",
          "data": {
            "text/plain": [
              "'\\nchecking portfolio weight\\n#np.nansum(portfolio_df.loc[day, k_loading_arr].values)\\nsum(portfolio_df.loc[day, k_loading_arr].values)\\n\\n'"
            ]
          },
          "metadata": {
            "tags": []
          },
          "execution_count": 162
        }
      ]
    },
    {
      "cell_type": "code",
      "metadata": {
        "id": "2fIShIy0rh0E",
        "colab_type": "code",
        "colab": {}
      },
      "source": [
        "portfolio_df_2 = portfolio_df.copy()"
      ],
      "execution_count": 0,
      "outputs": []
    },
    {
      "cell_type": "markdown",
      "metadata": {
        "id": "vGsO61OtcI-i",
        "colab_type": "text"
      },
      "source": [
        "\n",
        "#short_term reversion \n",
        "\n",
        "price data랑 industry 데이터 종목 검토 필요\n",
        "예상 시나리오 : price_s 가  필터링 된 종목일 것.\n",
        "그러면 일단 price_small에 맞춰서  industry_loading matrix 재조정 필요.\n"
      ]
    },
    {
      "cell_type": "code",
      "metadata": {
        "id": "wQ0KtMYIgcVH",
        "colab_type": "code",
        "colab": {
          "base_uri": "https://localhost:8080/",
          "height": 35
        },
        "outputId": "f569557f-a666-4bae-d677-f063a48f89b1"
      },
      "source": [
        "\n",
        "#5 Day Mean reversion  \n",
        "pr_rolling = price_s.rolling(5, min_periods=1).mean()\n",
        "#pr_rolling_ar = pr_rolling.values\n",
        "\n",
        "\n",
        "#input_data = pr_rolling\n",
        "input_data = pr_rolling\n",
        "total_ammount = 1\n",
        "\n",
        "#make portfolio df with init zero\n",
        "portfolio_df = price_s.copy()\n",
        "for col in portfolio_df.columns:\n",
        "    portfolio_df[col].values[:] = 0\n",
        "\n",
        "\n",
        "#Calc  alpha\n",
        "for i,index in enumerate(input_data.index) :\n",
        "    \n",
        "    if i == len(input_data.index)-1 :\n",
        "        break ;\n",
        "    day_pr_arr = input_data.values[i]\n",
        "\n",
        "    alpha =  (day_pr_arr - np.nanmean(day_pr_arr))\n",
        "    alpha[~np.isnan(day_pr_arr)] = np.where( alpha[~np.isnan(day_pr_arr)] > 0, -1, 1)\n",
        "    alpha -= np.nanmean(alpha)\n",
        "    #alpha = -1 * (day_pr_arr -pr_rolling_ar[i] )\n",
        "    weight_value = total_ammount/ np.sum(np.abs(day_pr_arr[~np.isnan(day_pr_arr)]))   \n",
        "\n",
        "    alpha[~np.isnan(day_pr_arr)] = weight_value * alpha[~np.isnan(day_pr_arr)]\n",
        "    \n",
        "    portfolio_df.loc[input_data.index[i+1], :] = alpha\n",
        "\n",
        "\n",
        "#check overall dollor neutral \n",
        "sum (np.nansum(portfolio_df.values, 1) < 10^-3)"
      ],
      "execution_count": 45,
      "outputs": [
        {
          "output_type": "execute_result",
          "data": {
            "text/plain": [
              "0"
            ]
          },
          "metadata": {
            "tags": []
          },
          "execution_count": 45
        }
      ]
    },
    {
      "cell_type": "code",
      "metadata": {
        "id": "HZjmSyiAwZCK",
        "colab_type": "code",
        "colab": {
          "base_uri": "https://localhost:8080/",
          "height": 544
        },
        "outputId": "815536e5-e44e-40de-db1f-a27339e5acff"
      },
      "source": [
        "#1-day mean rv\n",
        "daily_pnl = np.nansum(np.multiply( portfolio_df.values, price_s.values),1)\n",
        "draw_pnl(np.cumsum(daily_pnl), price_s.index)"
      ],
      "execution_count": 41,
      "outputs": [
        {
          "output_type": "execute_result",
          "data": {
            "text/plain": [
              "2009-01-01    0.000000e+00\n",
              "2009-01-02    2.483744e+05\n",
              "2009-01-05    1.253670e+05\n",
              "2009-01-06    4.724583e+04\n",
              "2009-01-07   -5.860431e+04\n",
              "                  ...     \n",
              "2019-11-08    8.835062e+06\n",
              "2019-11-11    8.701153e+06\n",
              "2019-11-12    8.740237e+06\n",
              "2019-11-13    8.854160e+06\n",
              "2019-11-14    8.977978e+06\n",
              "Length: 2689, dtype: float64"
            ]
          },
          "metadata": {
            "tags": []
          },
          "execution_count": 41
        },
        {
          "output_type": "display_data",
          "data": {
            "image/png": "[encoded data removed]",
            "text/plain": [
              "<Figure size 720x360 with 1 Axes>"
            ]
          },
          "metadata": {
            "tags": []
          }
        }
      ]
    },
    {
      "cell_type": "code",
      "metadata": {
        "id": "Kf4qVupQt2oS",
        "colab_type": "code",
        "colab": {
          "base_uri": "https://localhost:8080/",
          "height": 533
        },
        "outputId": "11daffc2-543f-4ffe-bb12-a74e5fd59674"
      },
      "source": [
        "#5-day mean rv\n",
        "daily_pnl = np.nansum(np.multiply( portfolio_df.values, price_s.values),1)\n",
        "draw_pnl(np.cumsum(daily_pnl), price_s.index)"
      ],
      "execution_count": 46,
      "outputs": [
        {
          "output_type": "execute_result",
          "data": {
            "text/plain": [
              "2009-01-01     0.000000\n",
              "2009-01-02     0.248374\n",
              "2009-01-05     0.178763\n",
              "2009-01-06     0.114273\n",
              "2009-01-07    -0.317261\n",
              "                ...    \n",
              "2019-11-08    96.048276\n",
              "2019-11-11    96.162881\n",
              "2019-11-12    96.346607\n",
              "2019-11-13    96.203950\n",
              "2019-11-14    96.872599\n",
              "Length: 2689, dtype: float64"
            ]
          },
          "metadata": {
            "tags": []
          },
          "execution_count": 46
        },
        {
          "output_type": "display_data",
          "data": {
            "image/png": "[encoded data removed]",
            "text/plain": [
              "<Figure size 720x360 with 1 Axes>"
            ]
          },
          "metadata": {
            "tags": []
          }
        }
      ]
    },
    {
      "cell_type": "code",
      "metadata": {
        "id": "iherVndCxFFR",
        "colab_type": "code",
        "colab": {
          "base_uri": "https://localhost:8080/",
          "height": 544
        },
        "outputId": "01e7a7fd-4ea3-4fd7-8e0e-416661dd808b"
      },
      "source": [
        "#21-day mean rv\n",
        "daily_pnl = np.nansum(np.multiply( portfolio_df.values, price_s.values),1)\n",
        "draw_pnl(np.cumsum(daily_pnl), price_s.index)"
      ],
      "execution_count": 43,
      "outputs": [
        {
          "output_type": "execute_result",
          "data": {
            "text/plain": [
              "2009-01-01    0.000000e+00\n",
              "2009-01-02    2.483744e+05\n",
              "2009-01-05    1.787631e+05\n",
              "2009-01-06    1.142729e+05\n",
              "2009-01-07   -3.172607e+05\n",
              "                  ...     \n",
              "2019-11-08    7.477651e+07\n",
              "2019-11-11    7.462077e+07\n",
              "2019-11-12    7.477290e+07\n",
              "2019-11-13    7.464355e+07\n",
              "2019-11-14    7.516743e+07\n",
              "Length: 2689, dtype: float64"
            ]
          },
          "metadata": {
            "tags": []
          },
          "execution_count": 43
        },
        {
          "output_type": "display_data",
          "data": {
            "image/png": "[encoded data removed]",
            "text/plain": [
              "<Figure size 720x360 with 1 Axes>"
            ]
          },
          "metadata": {
            "tags": []
          }
        }
      ]
    },
    {
      "cell_type": "code",
      "metadata": {
        "id": "YcY6uGMygcVV",
        "colab_type": "code",
        "colab": {
          "base_uri": "https://localhost:8080/",
          "height": 592
        },
        "outputId": "76636395-d1fc-4d5d-8fb9-dc260ebde03c"
      },
      "source": [
        "#back-testing by portfolio\n",
        "price_arr = price_s.values\n",
        "port_arr = portfolio_df.values\n",
        "pf_p_l = np.zeros(len(port_arr))\n",
        "\n",
        "for i in range(len(port_arr)) :\n",
        "    a_2 = port_arr[i]\n",
        "    a_1 = price_arr[i]\n",
        "    pf_p_l[i] = np.inner(a_1[~np.isnan(a_1)], a_2[~np.isnan(a_1)])\n",
        "\n",
        "p_and_l = np.cumsum(pf_p_l[1:])/total_ammount\n",
        "\n",
        "\n",
        "pnl_s = pd.Series(p_and_l)\n",
        "pnl_s.index = price_s.index[:-1]\n",
        "\n",
        "from matplotlib import pyplot as plt\n",
        "plt.figure(figsize=(20,10))\n",
        "plt.plot(pnl_s)\n",
        "plt.grid(b = True)"
      ],
      "execution_count": 281,
      "outputs": [
        {
          "output_type": "display_data",
          "data": {
            "image/png": "[encoded data removed]",
            "text/plain": [
              "<Figure size 1440x720 with 1 Axes>"
            ]
          },
          "metadata": {
            "tags": []
          }
        }
      ]
    },
    {
      "cell_type": "code",
      "metadata": {
        "id": "BjAab41a_JE9",
        "colab_type": "code",
        "colab": {
          "base_uri": "https://localhost:8080/",
          "height": 230
        },
        "outputId": "dec51be2-fcf4-42f6-8d24-3a578b3fd433"
      },
      "source": [
        "pnl_s"
      ],
      "execution_count": 282,
      "outputs": [
        {
          "output_type": "execute_result",
          "data": {
            "text/plain": [
              "2009-01-01   -1.351158\n",
              "2009-01-02   -0.346009\n",
              "2009-01-05    0.006410\n",
              "2009-01-06    0.522566\n",
              "2009-01-07    1.422885\n",
              "                ...   \n",
              "2019-11-07         NaN\n",
              "2019-11-08         NaN\n",
              "2019-11-11         NaN\n",
              "2019-11-12         NaN\n",
              "2019-11-13         NaN\n",
              "Length: 2688, dtype: float64"
            ]
          },
          "metadata": {
            "tags": []
          },
          "execution_count": 282
        }
      ]
    },
    {
      "cell_type": "code",
      "metadata": {
        "id": "b8k4BQFBgcV8",
        "colab_type": "code",
        "colab": {}
      },
      "source": [
        "from matplotlib import pyplot as plt\n",
        "plt.figure(figsize=(20,10))\n",
        "plt.plot(pnl_s)\n",
        "plt.grid(b = True)\n",
        "\n",
        "pf_p_l_s = pd.Series(pf_p_l)\n",
        "pf_p_l_s.index = price_s.index\n",
        "plt.figure(figsize=(20,10))\n",
        "plt.plot(pf_p_l_s)\n",
        "plt.grid(b = True)\n",
        "#pf_p_l_s\n"
      ],
      "execution_count": 0,
      "outputs": []
    },
    {
      "cell_type": "markdown",
      "metadata": {
        "id": "2ZVMWuKopcvF",
        "colab_type": "text"
      },
      "source": [
        "#Del off days\n"
      ]
    },
    {
      "cell_type": "code",
      "metadata": {
        "id": "blnJkWMXjjf5",
        "colab_type": "code",
        "colab": {}
      },
      "source": [
        "\n",
        "#idx of double \n",
        "double_idx = np.full(len(w=1price_s.index), False, dtype = bool)\n",
        "\n",
        "for i in range(len(price_s.index)) :\n",
        "    oneday_arr = price_s.values[i]\n",
        "  \n",
        "    if i ==0 :\n",
        "        pre_arr = oneday_arr\n",
        "        continue ;\n",
        "    #get non np array for calc norm distance btw pre & curr day return \n",
        "    nz_idx = np.isnan(oneday_arr)\n",
        "\n",
        "    if np.linalg.norm(oneday_arr[~nz_idx]  - pre_arr[~nz_idx]) < 0.001 :\n",
        "        double_idx[i] = True\n",
        "        \n",
        "\n",
        "    pre_arr = oneday_arr\n",
        "\n",
        "# Extract only working days\n",
        "real_price = price_s.loc[price_s.index[~double_idx],:]\n"
      ],
      "execution_count": 0,
      "outputs": []
    },
    {
      "cell_type": "markdown",
      "metadata": {
        "id": "t84q5Tg-DGwB",
        "colab_type": "text"
      },
      "source": [
        "#miscellaneous\n"
      ]
    },
    {
      "cell_type": "code",
      "metadata": {
        "id": "c-az2jT6DFRu",
        "colab_type": "code",
        "colab": {}
      },
      "source": [
        "price_s.values[0] - np.nanmean(price_s.values[0])\n",
        "np.nan(np.nanprice_s.values[0])\n",
        "np.isnan(price_s.values[0] )\n",
        "day_pr_arr = price_s.values[0]\n",
        "day_pr_arr_demean = day_pr_arr - np.nanmean(day_pr_arr)\n",
        "total_ammount = 1000000\n",
        "weight_value = total_ammount/ np.sum(np.abs(day_pr_arr[~np.isnan(day_pr_arr)]))\n",
        "alpha = day_pr_arr_demean\n",
        "alpha[~np.isnan(day_pr_arr)] = weight_value * alpha[~np.isnan(day_pr_arr)]\n",
        "portfolio_df = price_s.copy()\n",
        "for col in portfolio_df.columns:\n",
        "    portfolio_df[col].values[:] = 0\n",
        "portfolio_df.loc[price_s.index[1], :] = alpha"
      ],
      "execution_count": 0,
      "outputs": []
    }
  ]
}