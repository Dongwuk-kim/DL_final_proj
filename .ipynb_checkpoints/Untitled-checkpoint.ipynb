{
 "cells": [
  {
   "cell_type": "code",
   "execution_count": null,
   "metadata": {
    "jupyter": {
     "source_hidden": true
    }
   },
   "outputs": [],
   "source": [
    "import "
   ]
  },
  {
   "cell_type": "code",
   "execution_count": null,
   "metadata": {},
   "outputs": [],
   "source": [
    "import pandas as pd\n",
    "import collections\n",
    "import json\n",
    "import numpy as np\n",
    "\n",
    "#pd.read_excel(\"raw_data//daily_price.xlsx\")\n",
    "df = pd.read_excel(\"raw_data//Industry_code.xlsx\")\n",
    "df.columns = df.iloc[7]\n",
    "df = df[13:]\n",
    "df = df.set_index('Symbol')\n",
    "\n",
    "price = pd.read_excel(\"raw_data//daily_price.xlsx\")\n",
    "price.columns = price.iloc[7]\n",
    "price = price[13:]\n",
    "price = price.set_index('Symbol')\n",
    "\n",
    "\n",
    "#save as json file\n",
    "price_js = price.to_json(orient='columns')\n",
    "with open('data//daily_price.json', 'w') as outfile:\n",
    "    json.dump(price_js, outfile)\n",
    "\n",
    "    \n",
    "dummy_table = price.copy()\n",
    "for col in dummy_table.columns:\n",
    "    dummy_table[col].values[:] = np.NaN\n",
    "    \n",
    "for col in df.columns:\n",
    "    dummy_table.loc[df.index[8:], col] = df.loc[df.index[8:], col]\n",
    "\n",
    "    \n",
    "#backward_fill\n",
    "dummy_table = dummy_table.bfill()\n",
    "\n",
    "for col in dummy_table.columns:\n",
    "    dummy_table.ioc[dummy_table.index, col] = df.ioc[dummy_table.index, col]\n",
    "\n",
    "small_price = price.loc[:, df.columns]\n",
    "\n",
    "\n",
    "#save as json file\n",
    "price_js = small_price.to_json(orient='columns')\n",
    "with open('data//daily_price_small.json', 'w') as outfile:\n",
    "    json.dump(price_js, outfile)\n",
    "\n",
    "#save as json file\n",
    "price_js = dummy_table.to_json(orient='columns')\n",
    "with open('data//industry_code.json', 'w') as outfile:\n",
    "    json.dump(price_js, outfile)\n",
    "    \n",
    "\n"
   ]
  }
 ],
 "metadata": {
  "kernelspec": {
   "display_name": "Python 3",
   "language": "python",
   "name": "python3"
  },
  "language_info": {
   "codemirror_mode": {
    "name": "ipython",
    "version": 3
   },
   "file_extension": ".py",
   "mimetype": "text/x-python",
   "name": "python",
   "nbconvert_exporter": "python",
   "pygments_lexer": "ipython3",
   "version": "3.7.3"
  }
 },
 "nbformat": 4,
 "nbformat_minor": 4
}
